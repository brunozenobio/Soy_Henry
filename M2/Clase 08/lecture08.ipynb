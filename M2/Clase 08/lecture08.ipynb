{
 "cells": [
  {
   "cell_type": "code",
   "execution_count": 26,
   "metadata": {},
   "outputs": [],
   "source": [
    "import pymysql # conector a mysql"
   ]
  },
  {
   "cell_type": "code",
   "execution_count": 27,
   "metadata": {},
   "outputs": [],
   "source": [
    "conexion = pymysql.connect(\n",
    "    host='localhost',\n",
    "    user='root',\n",
    "    passwd='root',\n",
    "    database='henry_hc_05')  # port toma por defecto 3306"
   ]
  },
  {
   "cell_type": "code",
   "execution_count": 28,
   "metadata": {},
   "outputs": [],
   "source": [
    "cursor = conexion.cursor()"
   ]
  },
  {
   "cell_type": "code",
   "execution_count": 36,
   "metadata": {},
   "outputs": [
    {
     "data": {
      "text/plain": [
       "(1,\n",
       " '274352477',\n",
       " 'Candice',\n",
       " 'Rojas',\n",
       " datetime.date(2000, 12, 10),\n",
       " datetime.date(2020, 1, 21),\n",
       " 1235)"
      ]
     },
     "execution_count": 36,
     "metadata": {},
     "output_type": "execute_result"
    }
   ],
   "source": [
    "cursor.execute('SELECT * FROM alumno')\n",
    "alumnos = cursor.fetchall() \n",
    "# trae todo de la consulta ejecutada\n",
    "#fetchione() primera fila,\n",
    "#fechtmay() Tambien la primera\n",
    "# fetchmay(n) n primeras\n",
    "alumnos[0] # devuelve la tabla en tuplas"
   ]
  },
  {
   "cell_type": "code",
   "execution_count": 35,
   "metadata": {},
   "outputs": [
    {
     "name": "stdout",
     "output_type": "stream",
     "text": [
      "1\n",
      "274352477\n",
      "Candice\n",
      "Rojas\n",
      "2000-12-10\n",
      "2020-01-21\n",
      "1235\n"
     ]
    }
   ],
   "source": [
    "for valores in alumnos:\n",
    "    print(valores)"
   ]
  },
  {
   "cell_type": "code",
   "execution_count": null,
   "metadata": {},
   "outputs": [],
   "source": [
    "# Como insertar datos en la base de datos\n",
    "\n",
    "# cursor.execute('INSERT INTO')\n",
    "# conexion.commit() # Confirmo el cambio\n",
    "# conexion.close() # Cierro la "
   ]
  },
  {
   "cell_type": "code",
   "execution_count": null,
   "metadata": {},
   "outputs": [],
   "source": [
    "# Lo interesante es tomar datos de otras fuentes para subirlos\n",
    "# cursor.execute('INSERT INTo ... VALUES(%s,%s)',(val1,val2))"
   ]
  },
  {
   "cell_type": "code",
   "execution_count": null,
   "metadata": {},
   "outputs": [],
   "source": [
    "# Si quiero agregar varias filas puedo hacer una lista de tuoplas\n",
    "\n",
    "personas = [\n",
    "   # (col1,col2,col3)\n",
    "    #(col1,col2,col3)\n",
    "    \n",
    "]"
   ]
  },
  {
   "cell_type": "code",
   "execution_count": null,
   "metadata": {},
   "outputs": [],
   "source": [
    "# crusor.executemany('INSERT INT ... VALUES(%s,%s)',personas)"
   ]
  },
  {
   "cell_type": "code",
   "execution_count": 3,
   "metadata": {},
   "outputs": [],
   "source": [
    "# PARA DESCARGAR csv\n",
    "\n",
    "import requests\n",
    "respuesta = requests.get('')\n",
    "respuesta.tet"
   ]
  }
 ],
 "metadata": {
  "kernelspec": {
   "display_name": "Python 3",
   "language": "python",
   "name": "python3"
  },
  "language_info": {
   "codemirror_mode": {
    "name": "ipython",
    "version": 3
   },
   "file_extension": ".py",
   "mimetype": "text/x-python",
   "name": "python",
   "nbconvert_exporter": "python",
   "pygments_lexer": "ipython3",
   "version": "3.11.4"
  },
  "orig_nbformat": 4
 },
 "nbformat": 4,
 "nbformat_minor": 2
}
