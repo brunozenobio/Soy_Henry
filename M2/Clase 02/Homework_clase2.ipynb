{
 "cells": [
  {
   "cell_type": "markdown",
   "metadata": {},
   "source": [
    "Ejercicio 1"
   ]
  },
  {
   "cell_type": "code",
   "execution_count": 33,
   "metadata": {},
   "outputs": [],
   "source": [
    "# Al lanzar una moneda los resultados posibles son de 2**n\n"
   ]
  },
  {
   "cell_type": "code",
   "execution_count": 34,
   "metadata": {},
   "outputs": [
    {
     "name": "stdout",
     "output_type": "stream",
     "text": [
      "Cantidad de resultados posibles: 1024\n"
     ]
    }
   ],
   "source": [
    "cantidad = 2**10\n",
    "print(f'Cantidad de resultados posibles: {cantidad}')"
   ]
  },
  {
   "cell_type": "code",
   "execution_count": 35,
   "metadata": {},
   "outputs": [],
   "source": [
    "import numpy as np\n",
    "from math import factorial"
   ]
  },
  {
   "cell_type": "code",
   "execution_count": 36,
   "metadata": {},
   "outputs": [
    {
     "name": "stdout",
     "output_type": "stream",
     "text": [
      "0.6 // 0.4\n"
     ]
    }
   ],
   "source": [
    "\n",
    "caras = 0\n",
    "cruz = 0\n",
    "for i in range(10):\n",
    "    if np.random.random() < 0.5:\n",
    "        caras += 1\n",
    "    else:\n",
    "        cruz += 1\n",
    "print(caras/10,'//',cruz/10)\n",
    "    "
   ]
  },
  {
   "cell_type": "code",
   "execution_count": 37,
   "metadata": {},
   "outputs": [],
   "source": [
    "def combinaciones(N,n):\n",
    "    comb = factorial(N) / (factorial(n)* factorial(N-n))\n",
    "    return comb"
   ]
  },
  {
   "cell_type": "code",
   "execution_count": 38,
   "metadata": {},
   "outputs": [
    {
     "name": "stdout",
     "output_type": "stream",
     "text": [
      "La cantidad de combinaciones de 10 pasajeros controlados de a 3 es: 120.0\n"
     ]
    }
   ],
   "source": [
    "print(f'La cantidad de combinaciones de 10 pasajeros controlados de a 3 es: {combinaciones(10,3)}')"
   ]
  },
  {
   "cell_type": "code",
   "execution_count": 39,
   "metadata": {},
   "outputs": [],
   "source": [
    "import pandas as pd\n",
    "# Usando el metodo frecuentista se puede asignar la probabilidad en funcion de los resultados\n"
   ]
  },
  {
   "cell_type": "code",
   "execution_count": 40,
   "metadata": {},
   "outputs": [
    {
     "data": {
      "text/html": [
       "<div>\n",
       "<style scoped>\n",
       "    .dataframe tbody tr th:only-of-type {\n",
       "        vertical-align: middle;\n",
       "    }\n",
       "\n",
       "    .dataframe tbody tr th {\n",
       "        vertical-align: top;\n",
       "    }\n",
       "\n",
       "    .dataframe thead th {\n",
       "        text-align: right;\n",
       "    }\n",
       "</style>\n",
       "<table border=\"1\" class=\"dataframe\">\n",
       "  <thead>\n",
       "    <tr style=\"text-align: right;\">\n",
       "      <th></th>\n",
       "      <th>Si</th>\n",
       "      <th>No</th>\n",
       "    </tr>\n",
       "  </thead>\n",
       "  <tbody>\n",
       "    <tr>\n",
       "      <th>Norte</th>\n",
       "      <td>148</td>\n",
       "      <td>52</td>\n",
       "    </tr>\n",
       "    <tr>\n",
       "      <th>Noreste</th>\n",
       "      <td>162</td>\n",
       "      <td>54</td>\n",
       "    </tr>\n",
       "    <tr>\n",
       "      <th>Sur</th>\n",
       "      <td>296</td>\n",
       "      <td>74</td>\n",
       "    </tr>\n",
       "    <tr>\n",
       "      <th>Centro</th>\n",
       "      <td>252</td>\n",
       "      <td>48</td>\n",
       "    </tr>\n",
       "    <tr>\n",
       "      <th>Total</th>\n",
       "      <td>858</td>\n",
       "      <td>228</td>\n",
       "    </tr>\n",
       "  </tbody>\n",
       "</table>\n",
       "</div>"
      ],
      "text/plain": [
       "          Si   No\n",
       "Norte    148   52\n",
       "Noreste  162   54\n",
       "Sur      296   74\n",
       "Centro   252   48\n",
       "Total    858  228"
      ]
     },
     "execution_count": 40,
     "metadata": {},
     "output_type": "execute_result"
    }
   ],
   "source": [
    "df = pd.DataFrame(dict(Si=[148,162,296,252,858],No=[52,54,74,48,228]),index=['Norte','Noreste','Sur','Centro','Total'])\n",
    "df"
   ]
  },
  {
   "cell_type": "code",
   "execution_count": 41,
   "metadata": {},
   "outputs": [
    {
     "data": {
      "text/html": [
       "<div>\n",
       "<style scoped>\n",
       "    .dataframe tbody tr th:only-of-type {\n",
       "        vertical-align: middle;\n",
       "    }\n",
       "\n",
       "    .dataframe tbody tr th {\n",
       "        vertical-align: top;\n",
       "    }\n",
       "\n",
       "    .dataframe thead th {\n",
       "        text-align: right;\n",
       "    }\n",
       "</style>\n",
       "<table border=\"1\" class=\"dataframe\">\n",
       "  <thead>\n",
       "    <tr style=\"text-align: right;\">\n",
       "      <th></th>\n",
       "      <th>Si</th>\n",
       "      <th>No</th>\n",
       "      <th>Total</th>\n",
       "    </tr>\n",
       "  </thead>\n",
       "  <tbody>\n",
       "    <tr>\n",
       "      <th>Norte</th>\n",
       "      <td>148</td>\n",
       "      <td>52</td>\n",
       "      <td>200</td>\n",
       "    </tr>\n",
       "    <tr>\n",
       "      <th>Noreste</th>\n",
       "      <td>162</td>\n",
       "      <td>54</td>\n",
       "      <td>216</td>\n",
       "    </tr>\n",
       "    <tr>\n",
       "      <th>Sur</th>\n",
       "      <td>296</td>\n",
       "      <td>74</td>\n",
       "      <td>370</td>\n",
       "    </tr>\n",
       "    <tr>\n",
       "      <th>Centro</th>\n",
       "      <td>252</td>\n",
       "      <td>48</td>\n",
       "      <td>300</td>\n",
       "    </tr>\n",
       "    <tr>\n",
       "      <th>Total</th>\n",
       "      <td>858</td>\n",
       "      <td>228</td>\n",
       "      <td>1086</td>\n",
       "    </tr>\n",
       "  </tbody>\n",
       "</table>\n",
       "</div>"
      ],
      "text/plain": [
       "          Si   No  Total\n",
       "Norte    148   52    200\n",
       "Noreste  162   54    216\n",
       "Sur      296   74    370\n",
       "Centro   252   48    300\n",
       "Total    858  228   1086"
      ]
     },
     "execution_count": 41,
     "metadata": {},
     "output_type": "execute_result"
    }
   ],
   "source": [
    "df['Total'] = df.agg(sum,axis=1)\n",
    "df"
   ]
  },
  {
   "cell_type": "code",
   "execution_count": 42,
   "metadata": {},
   "outputs": [],
   "source": [
    "# b\n",
    "df['Si'] = df['Si'] / df.loc['Total','Total']\n",
    "df['No'] = df['No'] / df.loc['Total','Total']\n"
   ]
  },
  {
   "cell_type": "code",
   "execution_count": 43,
   "metadata": {},
   "outputs": [],
   "source": [
    "df['Probabilidad']  = df['Si'] + df['No']"
   ]
  },
  {
   "cell_type": "code",
   "execution_count": 44,
   "metadata": {},
   "outputs": [
    {
     "data": {
      "text/html": [
       "<div>\n",
       "<style scoped>\n",
       "    .dataframe tbody tr th:only-of-type {\n",
       "        vertical-align: middle;\n",
       "    }\n",
       "\n",
       "    .dataframe tbody tr th {\n",
       "        vertical-align: top;\n",
       "    }\n",
       "\n",
       "    .dataframe thead th {\n",
       "        text-align: right;\n",
       "    }\n",
       "</style>\n",
       "<table border=\"1\" class=\"dataframe\">\n",
       "  <thead>\n",
       "    <tr style=\"text-align: right;\">\n",
       "      <th></th>\n",
       "      <th>Si</th>\n",
       "      <th>No</th>\n",
       "      <th>Total</th>\n",
       "      <th>Probabilidad</th>\n",
       "    </tr>\n",
       "  </thead>\n",
       "  <tbody>\n",
       "    <tr>\n",
       "      <th>Norte</th>\n",
       "      <td>0.136280</td>\n",
       "      <td>0.047882</td>\n",
       "      <td>200</td>\n",
       "      <td>0.184162</td>\n",
       "    </tr>\n",
       "    <tr>\n",
       "      <th>Noreste</th>\n",
       "      <td>0.149171</td>\n",
       "      <td>0.049724</td>\n",
       "      <td>216</td>\n",
       "      <td>0.198895</td>\n",
       "    </tr>\n",
       "    <tr>\n",
       "      <th>Sur</th>\n",
       "      <td>0.272560</td>\n",
       "      <td>0.068140</td>\n",
       "      <td>370</td>\n",
       "      <td>0.340700</td>\n",
       "    </tr>\n",
       "    <tr>\n",
       "      <th>Centro</th>\n",
       "      <td>0.232044</td>\n",
       "      <td>0.044199</td>\n",
       "      <td>300</td>\n",
       "      <td>0.276243</td>\n",
       "    </tr>\n",
       "    <tr>\n",
       "      <th>Total</th>\n",
       "      <td>0.790055</td>\n",
       "      <td>0.209945</td>\n",
       "      <td>1086</td>\n",
       "      <td>1.000000</td>\n",
       "    </tr>\n",
       "  </tbody>\n",
       "</table>\n",
       "</div>"
      ],
      "text/plain": [
       "               Si        No  Total  Probabilidad\n",
       "Norte    0.136280  0.047882    200      0.184162\n",
       "Noreste  0.149171  0.049724    216      0.198895\n",
       "Sur      0.272560  0.068140    370      0.340700\n",
       "Centro   0.232044  0.044199    300      0.276243\n",
       "Total    0.790055  0.209945   1086      1.000000"
      ]
     },
     "execution_count": 44,
     "metadata": {},
     "output_type": "execute_result"
    }
   ],
   "source": [
    "df"
   ]
  },
  {
   "cell_type": "code",
   "execution_count": 66,
   "metadata": {},
   "outputs": [
    {
     "data": {
      "text/plain": [
       "0.17249432001569515"
      ]
     },
     "execution_count": 66,
     "metadata": {},
     "output_type": "execute_result"
    }
   ],
   "source": [
    "0.136280 / 0.790055\t"
   ]
  },
  {
   "cell_type": "code",
   "execution_count": 46,
   "metadata": {},
   "outputs": [],
   "source": [
    "#c "
   ]
  },
  {
   "cell_type": "code",
   "execution_count": 47,
   "metadata": {},
   "outputs": [],
   "source": [
    "#d Estara satisfecho porque la probabilidad ahora es de 0.79"
   ]
  },
  {
   "cell_type": "code",
   "execution_count": 48,
   "metadata": {},
   "outputs": [],
   "source": [
    "# e En la region sur es donde mas se usa el cinturon"
   ]
  },
  {
   "cell_type": "code",
   "execution_count": 49,
   "metadata": {},
   "outputs": [
    {
     "data": {
      "text/plain": [
       "0.9963754226772487"
      ]
     },
     "execution_count": 49,
     "metadata": {},
     "output_type": "execute_result"
    }
   ],
   "source": [
    "np.random.uniform(0,1)"
   ]
  },
  {
   "cell_type": "markdown",
   "metadata": {},
   "source": [
    "Ejercicio 4"
   ]
  },
  {
   "cell_type": "code",
   "execution_count": 50,
   "metadata": {},
   "outputs": [],
   "source": [
    "def baraja_probabilidad():\n",
    "    # La cantidad de napise rojos y negros es 26\n",
    "    if np.random.random() > 0.5:\n",
    "        return 'rojo'\n",
    "    else:\n",
    "        return \"negro\"\n",
    "    \n",
    "    if np.random.uniform(0,1) < 0.25:\n",
    "        print(\"Salio pica\" )\n",
    "    elif np.random.uniform(0,1) >= 0.25 and np.random.uniform(0,1) < 0.5:\n",
    "        print(\"Salio diamante\" )\n",
    "    elif np.random.uniform(0,1) >= 0.5 and np.random.uniform(0,1) < 0.75:\n",
    "        print(\"Salio trebol\" )\n",
    "    else :\n",
    "        print(\"Salio corazon\" )\n",
    "    "
   ]
  },
  {
   "cell_type": "code",
   "execution_count": 51,
   "metadata": {},
   "outputs": [
    {
     "name": "stdout",
     "output_type": "stream",
     "text": [
      "Salieron en 10000: 4932 rojo y 2467 negro\n"
     ]
    }
   ],
   "source": [
    "contador_rojo = 0\n",
    "contador_negro = 0\n",
    "tiradas = 10000\n",
    "for i in range(tiradas):\n",
    "    if baraja_probabilidad() == 'rojo':\n",
    "        contador_rojo += 1\n",
    "    elif baraja_probabilidad() == 'negro':\n",
    "        contador_negro += 1\n",
    "print(f'Salieron en {tiradas}: {contador_rojo} rojo y {contador_negro} negro')\n",
    "    "
   ]
  },
  {
   "cell_type": "markdown",
   "metadata": {},
   "source": [
    "Ejercicio 5"
   ]
  },
  {
   "cell_type": "code",
   "execution_count": 52,
   "metadata": {},
   "outputs": [
    {
     "name": "stdout",
     "output_type": "stream",
     "text": [
      "0.07692307692307693\n",
      "Posiblidad 7 u 9 es: 0.15384615384615385\n"
     ]
    }
   ],
   "source": [
    "#En un maso de 52 cartas hay 4 \"7\" y 4 \"8\" por lo tanto la probabilidad de que salga uno de estos es\n",
    "print(4/52)# Pero al tener en cuenta ambos resultados como posibles se duplica\n",
    "print(f'Posiblidad 7 u 9 es: {2*4/52}')\n"
   ]
  },
  {
   "cell_type": "markdown",
   "metadata": {},
   "source": [
    "Ejercicio 6"
   ]
  },
  {
   "cell_type": "code",
   "execution_count": 53,
   "metadata": {},
   "outputs": [],
   "source": [
    "# esta probabilidad a priori seria 1 divido la cantidad e paises participantes pero es posible dar un valor en funcion de otros resultados o valores conocidos\n",
    "# Paises con mejores jugadores,paises que venian ganando"
   ]
  },
  {
   "cell_type": "markdown",
   "metadata": {},
   "source": [
    "Ejercicio 7"
   ]
  },
  {
   "cell_type": "code",
   "execution_count": 54,
   "metadata": {},
   "outputs": [
    {
     "name": "stdout",
     "output_type": "stream",
     "text": [
      "Experimento 1 probabilidad: 0.4\n",
      "Experimento 1 probabilidad: 0.26\n",
      "Experimento 1 probabilidad: 0.34\n"
     ]
    }
   ],
   "source": [
    "# El experimento se hizo 50 veces, E1=20,E2=13,E3=17\n",
    "#Basandome en estos resultados a traves del modelo frecuentista se le puede asignar a cada valor una probabilidad\n",
    "print(f'Experimento 1 probabilidad: {20/50}')\n",
    "print(f'Experimento 1 probabilidad: {13/50}')\n",
    "print(f'Experimento 1 probabilidad: {17/50}')\n",
    "#Como se ve aunque hay  resultados posibles usando el modelo frecuentista no serian equiprobables"
   ]
  },
  {
   "cell_type": "markdown",
   "metadata": {},
   "source": [
    "Complementarios"
   ]
  },
  {
   "cell_type": "markdown",
   "metadata": {},
   "source": [
    "ejercicio 1"
   ]
  },
  {
   "cell_type": "code",
   "execution_count": 55,
   "metadata": {},
   "outputs": [
    {
     "name": "stdout",
     "output_type": "stream",
     "text": [
      "Probabilidad de que uno pague con efectivo y el otro con credido es: 0.18666666666666668\n",
      "Probabilidad de que los dos paguen en efectivo es: 0.16000000000000003\n"
     ]
    }
   ],
   "source": [
    "print(f'Probabilidad de que uno pague con efectivo y el otro con credido es: {(6/15)*(7/15)}')\n",
    "print(f'Probabilidad de que los dos paguen en efectivo es: {(6 / 15) ** 2}')"
   ]
  },
  {
   "cell_type": "markdown",
   "metadata": {},
   "source": [
    "Ejercicio 2"
   ]
  },
  {
   "cell_type": "code",
   "execution_count": 56,
   "metadata": {},
   "outputs": [
    {
     "name": "stdout",
     "output_type": "stream",
     "text": [
      "0.84\n"
     ]
    }
   ],
   "source": [
    "# La probabilidad de que no apruebe ninguno es que sen los 3 casos de desprobar es decir\n",
    "desaprobar_todo = 0.8 * 0.5 * 0.4\n",
    "print(1- desaprobar_todo)\n",
    "# por lo tanto la probabilidad de que ocurra al menos 1 es 1-la prob de desprobar todo (que es probabilidad de no desaprobar todo es decir al menos aprobar 1)"
   ]
  },
  {
   "cell_type": "code",
   "execution_count": 57,
   "metadata": {},
   "outputs": [
    {
     "data": {
      "text/plain": [
       "0.8399999999999996"
      ]
     },
     "execution_count": 57,
     "metadata": {},
     "output_type": "execute_result"
    }
   ],
   "source": [
    "## La probabilidad de que al menos apruebe un modulo se calcula con el principio de inclusion exclusion\n",
    "# probabilidad 1 de los 3 = prob1 + prob2 +prob3 - prob1y2 prob1y3 prob2y3 + prob1,y23\n",
    "probabilidad_123 = 0.2*0.5*0.6\n",
    "probabilidad_12 = 0.2 * 0.5\n",
    "probabilidad_13 = 0.2 * 0.6\n",
    "probabilidad_23 = 0.5 * 0.6\n",
    "probabilidad = 0.5 + 0.2 + 0.6 - probabilidad_12 - probabilidad_13 -probabilidad_23 + probabilidad_123\n",
    "probabilidad"
   ]
  },
  {
   "cell_type": "code",
   "execution_count": 58,
   "metadata": {},
   "outputs": [
    {
     "name": "stdout",
     "output_type": "stream",
     "text": [
      "Desaprobar todo : 0.16000000000000003\n"
     ]
    }
   ],
   "source": [
    "print(f'Desaprobar todo : {desaprobar_todo}')"
   ]
  },
  {
   "cell_type": "code",
   "execution_count": 59,
   "metadata": {},
   "outputs": [
    {
     "name": "stdout",
     "output_type": "stream",
     "text": [
      "Aprobar solo m1: 0.04000000000000001 \n",
      "Aprobar solo m2: 0.16000000000000003 \n",
      "Aprobar solo m3: 0.24 \n"
     ]
    }
   ],
   "source": [
    "print(f'Aprobar solo m1: {0.2*0.5*0.4} ')\n",
    "print(f'Aprobar solo m2: {0.5*0.8*0.4} ')\n",
    "print(f'Aprobar solo m3: {0.6*0.5*0.8} ')"
   ]
  }
 ],
 "metadata": {
  "kernelspec": {
   "display_name": "Python 3",
   "language": "python",
   "name": "python3"
  },
  "language_info": {
   "codemirror_mode": {
    "name": "ipython",
    "version": 3
   },
   "file_extension": ".py",
   "mimetype": "text/x-python",
   "name": "python",
   "nbconvert_exporter": "python",
   "pygments_lexer": "ipython3",
   "version": "3.11.4"
  },
  "orig_nbformat": 4
 },
 "nbformat": 4,
 "nbformat_minor": 2
}
