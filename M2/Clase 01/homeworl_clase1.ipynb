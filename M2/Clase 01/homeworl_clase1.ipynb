{
 "cells": [
  {
   "cell_type": "code",
   "execution_count": 3,
   "metadata": {},
   "outputs": [],
   "source": [
    "import numpy as np # importando numpy\n",
    "import scipy.stats as sc # importando scipy.stats\n",
    "import pandas as pd #importando pandas\n",
    "import matplotlib.pyplot as plt # importando matplotlib"
   ]
  },
  {
   "cell_type": "code",
   "execution_count": 2,
   "metadata": {},
   "outputs": [],
   "source": [
    "muestra = np.array( [[1.85, 1.8, 1.8 , 1.8],\n",
    "                    [1.73,  1.7, 1.75, 1.76],\n",
    "                    [ 1.65, 1.69,  1.67 ,  1.6],\n",
    "                    [1.54,  1.57, 1.58, 1.59],\n",
    "                    [ 1.4 , 1.42,  1.45, 1.48]]) "
   ]
  },
  {
   "cell_type": "code",
   "execution_count": 7,
   "metadata": {},
   "outputs": [
    {
     "data": {
      "text/plain": [
       "1.8"
      ]
     },
     "execution_count": 7,
     "metadata": {},
     "output_type": "execute_result"
    }
   ],
   "source": [
    "sc.mode(muestra,axis=None)[0]"
   ]
  },
  {
   "cell_type": "code",
   "execution_count": 27,
   "metadata": {},
   "outputs": [],
   "source": [
    "def mode(array):\n",
    "    lista_contadores = list(np.ones(array_unid.size))\n",
    "    for i in range(len(list(array_unid))):\n",
    "        for j in range(i+1,len(list(array_unid))):\n",
    "            if list(array_unid)[i] == list(array_unid)[j]:\n",
    "                lista_contadores [i] += 1\n",
    "    for i,val in enumerate(lista_contadores):\n",
    "        if val == np.array(lista_contadores).max():\n",
    "            return array_unid[i]"
   ]
  },
  {
   "cell_type": "code",
   "execution_count": 28,
   "metadata": {},
   "outputs": [
    {
     "data": {
      "text/plain": [
       "1.8"
      ]
     },
     "execution_count": 28,
     "metadata": {},
     "output_type": "execute_result"
    }
   ],
   "source": [
    "mode(muestra)"
   ]
  },
  {
   "cell_type": "code",
   "execution_count": 30,
   "metadata": {},
   "outputs": [
    {
     "name": "stdout",
     "output_type": "stream",
     "text": [
      "La media aritmetica es: 1.6415\n",
      "La mediana es: 1.66\n",
      "La moda con librerias es : 1.8\n",
      "La moda con python vanilla es: 1.8\n",
      "La varianza es: 0.017642750000000006\n",
      "La desviacion estandar es: 0.13282601401833907\n"
     ]
    }
   ],
   "source": [
    "print(f'La media aritmetica es: {np.mean(muestra)}')\n",
    "print(f'La mediana es: {np.median(muestra)}')\n",
    "print(f'La moda con librerias es : {sc.mode(muestra,axis=None)[0]}')\n",
    "print(f'La moda con python vanilla es: {mode(muestra)}')\n",
    "print(f'La varianza es: {np.var(muestra)}')\n",
    "print(f'La desviacion estandar es: {np.std(muestra)}')"
   ]
  }
 ],
 "metadata": {
  "kernelspec": {
   "display_name": "Python 3",
   "language": "python",
   "name": "python3"
  },
  "language_info": {
   "codemirror_mode": {
    "name": "ipython",
    "version": 3
   },
   "file_extension": ".py",
   "mimetype": "text/x-python",
   "name": "python",
   "nbconvert_exporter": "python",
   "pygments_lexer": "ipython3",
   "version": "3.11.4"
  },
  "orig_nbformat": 4
 },
 "nbformat": 4,
 "nbformat_minor": 2
}
