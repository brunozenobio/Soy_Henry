{
 "cells": [
  {
   "cell_type": "markdown",
   "metadata": {},
   "source": [
    "Ejercicio 1"
   ]
  },
  {
   "cell_type": "code",
   "execution_count": 133,
   "metadata": {},
   "outputs": [],
   "source": [
    "# P(A) =0.5 P(B)=0.6 P(A y B ) = 0.4\n",
    "#P(A|B) = P(A y B) / P(B)\n",
    "#P(B|A) = P(A y B) / P(A)"
   ]
  },
  {
   "cell_type": "code",
   "execution_count": 134,
   "metadata": {},
   "outputs": [],
   "source": [
    "P_A,P_B,P_AYB= 0.5,0.6,0.4"
   ]
  },
  {
   "cell_type": "code",
   "execution_count": 135,
   "metadata": {},
   "outputs": [
    {
     "name": "stdout",
     "output_type": "stream",
     "text": [
      "Teniendo en cuenta los casos: P(A|B) es : 0.67 y P(B|A) es: 0.8\n"
     ]
    }
   ],
   "source": [
    "P_A_dadoB = round(P_AYB / P_B,2)\n",
    "P_B_dadoA = P_AYB / P_A\n",
    "print(f'Teniendo en cuenta los casos: P(A|B) es : {P_A_dadoB} y P(B|A) es: {P_B_dadoA}')\n",
    "\n",
    "# No son independientes ya que para esto, la P(A|B) debera ser igual a P(A) y vicebersa para B pero no sucede el caso\n",
    "# Por esto son eventos independintes\n"
   ]
  },
  {
   "cell_type": "markdown",
   "metadata": {},
   "source": [
    "Ejercicio 2"
   ]
  },
  {
   "cell_type": "code",
   "execution_count": 136,
   "metadata": {},
   "outputs": [],
   "source": [
    "# A y B mutuamente excluyentes\n",
    "P_A,P_B = 0.3,0.4\n",
    "\n",
    "# EN UN SOLO TIRO SUCESOS EXLUYENTES SON DEPENDIENTES YA QUE LA PROBABILIDAD DE UNO HACE QUE LA DEL OTRO NO SEA POSIBLE\n",
    "# Dado que son exluyentes si ocurre uno el otro no podria ocurrir por lo tanto P(A y B) = 0\n"
   ]
  },
  {
   "cell_type": "markdown",
   "metadata": {},
   "source": [
    "Ejercicio 3\n"
   ]
  },
  {
   "cell_type": "code",
   "execution_count": 137,
   "metadata": {},
   "outputs": [],
   "source": [
    "import pandas as pd"
   ]
  },
  {
   "cell_type": "code",
   "execution_count": 138,
   "metadata": {},
   "outputs": [
    {
     "data": {
      "text/html": [
       "<div>\n",
       "<style scoped>\n",
       "    .dataframe tbody tr th:only-of-type {\n",
       "        vertical-align: middle;\n",
       "    }\n",
       "\n",
       "    .dataframe tbody tr th {\n",
       "        vertical-align: top;\n",
       "    }\n",
       "\n",
       "    .dataframe thead th {\n",
       "        text-align: right;\n",
       "    }\n",
       "</style>\n",
       "<table border=\"1\" class=\"dataframe\">\n",
       "  <thead>\n",
       "    <tr style=\"text-align: right;\">\n",
       "      <th></th>\n",
       "      <th>Nacional</th>\n",
       "      <th>Importado</th>\n",
       "      <th>Total</th>\n",
       "    </tr>\n",
       "  </thead>\n",
       "  <tbody>\n",
       "    <tr>\n",
       "      <th>Menos de 40</th>\n",
       "      <td>0.3000</td>\n",
       "      <td>0.0750</td>\n",
       "      <td>0.375</td>\n",
       "    </tr>\n",
       "    <tr>\n",
       "      <th>Entre 40 y 50</th>\n",
       "      <td>0.2375</td>\n",
       "      <td>0.1875</td>\n",
       "      <td>0.425</td>\n",
       "    </tr>\n",
       "    <tr>\n",
       "      <th>Mas de 50</th>\n",
       "      <td>0.0875</td>\n",
       "      <td>0.1125</td>\n",
       "      <td>0.200</td>\n",
       "    </tr>\n",
       "    <tr>\n",
       "      <th>Total</th>\n",
       "      <td>0.6250</td>\n",
       "      <td>0.3750</td>\n",
       "      <td>1.000</td>\n",
       "    </tr>\n",
       "  </tbody>\n",
       "</table>\n",
       "</div>"
      ],
      "text/plain": [
       "               Nacional  Importado  Total\n",
       "Menos de 40      0.3000     0.0750  0.375\n",
       "Entre 40 y 50    0.2375     0.1875  0.425\n",
       "Mas de 50        0.0875     0.1125  0.200\n",
       "Total            0.6250     0.3750  1.000"
      ]
     },
     "execution_count": 138,
     "metadata": {},
     "output_type": "execute_result"
    }
   ],
   "source": [
    "columnas = ['Nacional','Importado','Total']\n",
    "filas = ['Menos de 40','Entre 40 y 50','Mas de 50','Total']\n",
    "valores = [[24,6,30],[19,15,34],[7,9,16],[50,30,80]]\n",
    "df = pd.DataFrame(data=valores,index=filas,columns=columnas)\n",
    "df['Nacional'],df['Importado'],df['Total'] = df['Nacional'] / df['Total']['Total'],df['Importado'] / df['Total']['Total'],df['Total'] / df['Total']['Total']\n",
    "df"
   ]
  },
  {
   "cell_type": "code",
   "execution_count": 139,
   "metadata": {},
   "outputs": [
    {
     "name": "stdout",
     "output_type": "stream",
     "text": [
      "La probabilidad de P(menos40 Y 4050) es: 0.159375\n"
     ]
    }
   ],
   "source": [
    "# a\n",
    "# P(menos de 40 Y entre 40 y 50): sucesos independintes por lo tanto\n",
    "P_M4_450 = df.loc['Menos de 40','Total'] * df.loc['Entre 40 y 50','Total']\n",
    "\n",
    "print(f'La probabilidad de P(menos40 Y 4050) es: {P_M4_450}')"
   ]
  },
  {
   "cell_type": "code",
   "execution_count": 140,
   "metadata": {},
   "outputs": [
    {
     "name": "stdout",
     "output_type": "stream",
     "text": [
      "La probabilidad de P(Nacional Y Nacional) es: 0.390625\n"
     ]
    }
   ],
   "source": [
    "#b\n",
    "#P(Nacional y Nacional) sucesos independientes\n",
    "P_nacYnac = df['Nacional']['Total'] ** 2\n",
    "print(f'La probabilidad de P(Nacional Y Nacional) es: {P_nacYnac }')\n"
   ]
  },
  {
   "cell_type": "markdown",
   "metadata": {},
   "source": [
    "Ejercicio 4"
   ]
  },
  {
   "cell_type": "code",
   "execution_count": 141,
   "metadata": {},
   "outputs": [
    {
     "name": "stdout",
     "output_type": "stream",
     "text": [
      "La probabilidad de P(40y50 y menos40 ) = P(40)*P(40y50|menos40) = 0.375 *34 / (80 -1) : 0.16139240506329114  \n"
     ]
    }
   ],
   "source": [
    "#a\n",
    "# Como ahora no hay reposicion los sucesos son condicionales por lo tanto\n",
    "# P(menos40) = 0.375\n",
    "# pero para P(40y59| menos40) = 34 / 80 -1 porque ya paso la primera\n",
    "print(f'La probabilidad de P(40y50 y menos40 ) = P(40)*P(40y50|menos40) = 0.375 *34 / (80 -1) : {0.375 *34 / (80 -1)}  ')"
   ]
  },
  {
   "cell_type": "code",
   "execution_count": 142,
   "metadata": {},
   "outputs": [
    {
     "name": "stdout",
     "output_type": "stream",
     "text": [
      "P(Nac y Nac) = P(Nac) * P(Nac|Nac) es: 0.39556962025316456\n"
     ]
    }
   ],
   "source": [
    "#b Este seria igual que el anterior 50 / 80 * 50 / 79\n",
    "print(f'P(Nac y Nac) = P(Nac) * P(Nac|Nac) es: {0.6250 * 50 / 79}')"
   ]
  },
  {
   "cell_type": "markdown",
   "metadata": {},
   "source": [
    "Ejercicio 5\n"
   ]
  },
  {
   "cell_type": "code",
   "execution_count": 143,
   "metadata": {},
   "outputs": [
    {
     "name": "stdout",
     "output_type": "stream",
     "text": [
      "0.3227848101265823\n"
     ]
    }
   ],
   "source": [
    "# Para esta caso sera la probabilidad de que se de menos de 40 y 40 y 50 habiendose dado menos de 40 + lo inverso\n",
    "print(0.375 *34 / (80 -1) + 0.425 *30 / (80 -1))"
   ]
  },
  {
   "cell_type": "markdown",
   "metadata": {},
   "source": [
    "Ejercicio 6"
   ]
  },
  {
   "cell_type": "code",
   "execution_count": 144,
   "metadata": {},
   "outputs": [],
   "source": [
    "#a\n",
    "filas = ['18 a 34','35 o mayor']\n",
    "valores = dict(Si=[750,950],No=[170,130])\n",
    "df_seguro = pd.DataFrame(valores,index=filas)"
   ]
  },
  {
   "cell_type": "code",
   "execution_count": 145,
   "metadata": {},
   "outputs": [],
   "source": [
    "df_seguro = df_seguro / sum(df_seguro.sum())"
   ]
  },
  {
   "cell_type": "code",
   "execution_count": 146,
   "metadata": {},
   "outputs": [],
   "source": [
    "df_seguro['Total'] = df_seguro.agg('sum',axis=1)"
   ]
  },
  {
   "cell_type": "code",
   "execution_count": 147,
   "metadata": {},
   "outputs": [],
   "source": [
    "df_seguro.loc['Total'] = df_seguro.agg('sum')"
   ]
  },
  {
   "cell_type": "code",
   "execution_count": 148,
   "metadata": {},
   "outputs": [
    {
     "data": {
      "text/html": [
       "<div>\n",
       "<style scoped>\n",
       "    .dataframe tbody tr th:only-of-type {\n",
       "        vertical-align: middle;\n",
       "    }\n",
       "\n",
       "    .dataframe tbody tr th {\n",
       "        vertical-align: top;\n",
       "    }\n",
       "\n",
       "    .dataframe thead th {\n",
       "        text-align: right;\n",
       "    }\n",
       "</style>\n",
       "<table border=\"1\" class=\"dataframe\">\n",
       "  <thead>\n",
       "    <tr style=\"text-align: right;\">\n",
       "      <th></th>\n",
       "      <th>Si</th>\n",
       "      <th>No</th>\n",
       "      <th>Total</th>\n",
       "    </tr>\n",
       "  </thead>\n",
       "  <tbody>\n",
       "    <tr>\n",
       "      <th>18 a 34</th>\n",
       "      <td>0.375</td>\n",
       "      <td>0.085</td>\n",
       "      <td>0.46</td>\n",
       "    </tr>\n",
       "    <tr>\n",
       "      <th>35 o mayor</th>\n",
       "      <td>0.475</td>\n",
       "      <td>0.065</td>\n",
       "      <td>0.54</td>\n",
       "    </tr>\n",
       "    <tr>\n",
       "      <th>Total</th>\n",
       "      <td>0.850</td>\n",
       "      <td>0.150</td>\n",
       "      <td>1.00</td>\n",
       "    </tr>\n",
       "  </tbody>\n",
       "</table>\n",
       "</div>"
      ],
      "text/plain": [
       "               Si     No  Total\n",
       "18 a 34     0.375  0.085   0.46\n",
       "35 o mayor  0.475  0.065   0.54\n",
       "Total       0.850  0.150   1.00"
      ]
     },
     "execution_count": 148,
     "metadata": {},
     "output_type": "execute_result"
    }
   ],
   "source": [
    "df_seguro"
   ]
  },
  {
   "cell_type": "code",
   "execution_count": null,
   "metadata": {},
   "outputs": [],
   "source": [
    "#b\n",
    "#0.46\n",
    "#0.54\n",
    "# Indican que no hay diferencias significativa pero para mayor a 35 años la prob es mayor"
   ]
  },
  {
   "cell_type": "code",
   "execution_count": 151,
   "metadata": {},
   "outputs": [
    {
     "name": "stdout",
     "output_type": "stream",
     "text": [
      "La probabilidad de tomar una persona aleatoria y que no tenga seguro es: 0.15\n"
     ]
    }
   ],
   "source": [
    "#c\n",
    "#La probabilidad de tomar una persona aleatoria y que no tenga seguro es\n",
    "print(f'La probabilidad de tomar una persona aleatoria y que no tenga seguro es: {round(df_seguro.loc[\"Total\",\"No\"],2)}')"
   ]
  },
  {
   "cell_type": "code",
   "execution_count": 156,
   "metadata": {},
   "outputs": [
    {
     "name": "stdout",
     "output_type": "stream",
     "text": [
      "P(No|18y34) es : 0.18\n"
     ]
    }
   ],
   "source": [
    "#d\n",
    "#Si la persona tiene entre 18 y 34 tengo un caso de probabilidad condicional\n",
    "# Por lo tanto P(No|18y34) = P(18y34 y No) / P(18y34)\n",
    "PNo_dado_18y34 = df_seguro.loc['18 a 34','No'] / df_seguro.loc['18 a 34','Total']\n",
    "print(f'P(No|18y34) es : {round(PNo_dado_18y34,2)}')"
   ]
  },
  {
   "cell_type": "code",
   "execution_count": 158,
   "metadata": {},
   "outputs": [
    {
     "name": "stdout",
     "output_type": "stream",
     "text": [
      "P(No|18y34) es : 0.12\n"
     ]
    }
   ],
   "source": [
    "#e\n",
    "#Sera igual que el caso anterior\n",
    "PNo_dado_35mas = df_seguro.loc['35 o mayor','No'] / df_seguro.loc['35 o mayor','Total']\n",
    "print(f'P(No|mayor35) es : {round(PNo_dado_35mas,2)}')"
   ]
  },
  {
   "cell_type": "code",
   "execution_count": 162,
   "metadata": {},
   "outputs": [
    {
     "name": "stdout",
     "output_type": "stream",
     "text": [
      "P(18y34|No) es : 0.567\n"
     ]
    }
   ],
   "source": [
    "# Para esto caso tambien es condicional pero se analza\n",
    "# P(18y34|No) = P(18y34 y No) / P(No)\n",
    "P18y34_No = df_seguro.loc['18 a 34','No'] /df_seguro.loc['Total','No']\n",
    "print(f'P(18y34|No) es : {round(P18y34_No,3)}')"
   ]
  }
 ],
 "metadata": {
  "kernelspec": {
   "display_name": "Python 3",
   "language": "python",
   "name": "python3"
  },
  "language_info": {
   "codemirror_mode": {
    "name": "ipython",
    "version": 3
   },
   "file_extension": ".py",
   "mimetype": "text/x-python",
   "name": "python",
   "nbconvert_exporter": "python",
   "pygments_lexer": "ipython3",
   "version": "3.11.4"
  },
  "orig_nbformat": 4
 },
 "nbformat": 4,
 "nbformat_minor": 2
}
