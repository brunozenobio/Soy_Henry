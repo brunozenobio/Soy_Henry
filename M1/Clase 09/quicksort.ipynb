{
 "cells": [
  {
   "cell_type": "code",
   "execution_count": null,
   "metadata": {},
   "outputs": [],
   "source": [
    "def quicksort(lista):\n",
    "    if len(lista) < 1:\n",
    "        return lista\n",
    "    pivot = lista[len(lista) // 2]\n",
    "    izq = [x for x in lista if x < pivot]\n",
    "    derecha = [x for x in lista if x > pivot]\n",
    "    mid = [x for x in lista if x==pivot]\n",
    "    return quicksort(izq) + mid + quicksort(derecha)"
   ]
  },
  {
   "cell_type": "code",
   "execution_count": null,
   "metadata": {},
   "outputs": [],
   "source": [
    "import numpy as np"
   ]
  },
  {
   "cell_type": "code",
   "execution_count": null,
   "metadata": {},
   "outputs": [],
   "source": [
    "lista = list(np.random.randint(1,1000,10000))\n",
    "lista"
   ]
  },
  {
   "cell_type": "code",
   "execution_count": null,
   "metadata": {},
   "outputs": [],
   "source": [
    "quicksort(lista)"
   ]
  },
  {
   "cell_type": "code",
   "execution_count": 41,
   "metadata": {},
   "outputs": [],
   "source": [
    "def busqueda_binario(arr,target):\n",
    "    izq = 0 # Primero elemento\n",
    "    der = len(arr) - 1  # Ultimo elemento\n",
    "    while izq <= der:\n",
    "        mid = (izq + der) //2 # Indice medio\n",
    "        if arr[mid] == target:\n",
    "            return mid\n",
    "        elif arr[mid]<target :\n",
    "            izq = mid + 1\n",
    "        else:\n",
    "            der= mid-1\n",
    "    return -1 "
   ]
  },
  {
   "cell_type": "code",
   "execution_count": 42,
   "metadata": {},
   "outputs": [],
   "source": [
    "lista3= [0,1,2,3,4,5,6,7,8,9,10,11,12,13]"
   ]
  },
  {
   "cell_type": "code",
   "execution_count": 44,
   "metadata": {},
   "outputs": [
    {
     "data": {
      "text/plain": [
       "10"
      ]
     },
     "execution_count": 44,
     "metadata": {},
     "output_type": "execute_result"
    }
   ],
   "source": [
    "busqueda_binario(lista3,10)"
   ]
  }
 ],
 "metadata": {
  "kernelspec": {
   "display_name": "Python 3",
   "language": "python",
   "name": "python3"
  },
  "language_info": {
   "codemirror_mode": {
    "name": "ipython",
    "version": 3
   },
   "file_extension": ".py",
   "mimetype": "text/x-python",
   "name": "python",
   "nbconvert_exporter": "python",
   "pygments_lexer": "ipython3",
   "version": "3.11.4"
  },
  "orig_nbformat": 4
 },
 "nbformat": 4,
 "nbformat_minor": 2
}
