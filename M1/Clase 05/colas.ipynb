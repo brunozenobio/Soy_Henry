{
 "cells": [
  {
   "cell_type": "code",
   "execution_count": 23,
   "id": "7a9da481-f6ec-4131-bfe7-7b7482c97e5d",
   "metadata": {},
   "outputs": [],
   "source": [
    "class Estructura_cola(object):\n",
    "    def __init__(self):\n",
    "        self.__list = []\n",
    "    \n",
    "    # Agregar elemento\n",
    "    def enqueue(self, item):\n",
    "        self.__list.append(item)\n",
    "    \n",
    "    # Eliminamos el primero en entrar \n",
    "    def dequeue(self):\n",
    "        return self.__list.pop(0)\n",
    "    \n",
    "    # Obtener elemento superior EL primero que sale\n",
    "    def first(self): \n",
    "        if self.__list:\n",
    "            return self.__list[0]\n",
    "        else:\n",
    "            return None\n",
    "    \n",
    "    def is_empty(self):\n",
    "        return self.__list == []\n",
    "    \n",
    "    def size(self):\n",
    "        return len(self.__list)"
   ]
  },
  {
   "cell_type": "code",
   "execution_count": 24,
   "id": "f0be6061-c850-45f1-8741-a702ace4069a",
   "metadata": {},
   "outputs": [],
   "source": [
    "f = Estructura_cola()"
   ]
  },
  {
   "cell_type": "code",
   "execution_count": 27,
   "id": "afe5ce96-4641-492a-8a57-4f9d6a73a283",
   "metadata": {},
   "outputs": [],
   "source": [
    "f.enqueue(1)\n",
    "f.enqueue(5)\n",
    "f.enqueue(8)\n",
    "f.enqueue(4)\n",
    "f.enqueue(9)\n"
   ]
  },
  {
   "cell_type": "code",
   "execution_count": 29,
   "id": "31be7ada-25c4-46cc-8875-50db88eab117",
   "metadata": {},
   "outputs": [
    {
     "data": {
      "text/plain": [
       "1"
      ]
     },
     "execution_count": 29,
     "metadata": {},
     "output_type": "execute_result"
    }
   ],
   "source": [
    "f.first()"
   ]
  },
  {
   "cell_type": "code",
   "execution_count": 30,
   "id": "4da74a3a-8616-4066-9e83-4046179352f7",
   "metadata": {},
   "outputs": [
    {
     "data": {
      "text/plain": [
       "1"
      ]
     },
     "execution_count": 30,
     "metadata": {},
     "output_type": "execute_result"
    }
   ],
   "source": [
    "f.dequeue()"
   ]
  }
 ],
 "metadata": {
  "kernelspec": {
   "display_name": "Python 3 (ipykernel)",
   "language": "python",
   "name": "python3"
  },
  "language_info": {
   "codemirror_mode": {
    "name": "ipython",
    "version": 3
   },
   "file_extension": ".py",
   "mimetype": "text/x-python",
   "name": "python",
   "nbconvert_exporter": "python",
   "pygments_lexer": "ipython3",
   "version": "3.11.4"
  }
 },
 "nbformat": 4,
 "nbformat_minor": 5
}
