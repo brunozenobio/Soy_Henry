{
 "cells": [
  {
   "cell_type": "code",
   "execution_count": 9,
   "id": "ec589458-a2c3-49b9-9c04-27348aeedfe5",
   "metadata": {},
   "outputs": [],
   "source": [
    "class Estructura_pila(object):\n",
    "    def __init__(self):\n",
    "        self.__list = []\n",
    "    def push(self,item):\n",
    "        self.__list.append(item) # Añadimos un elemento al final\n",
    "    \n",
    "    def pop(self): # Eliminamos el ultimo elemento\n",
    "        return self.__list.pop()\n",
    "    #OBtenemos el elemento superior\n",
    "    def peak(self):\n",
    "        if self.__list: # corroboramos si no esta vacia\n",
    "            return self.__list[-1] # Devolvemos el ultimo elemento si no esta vacia\n",
    "        else:\n",
    "            return None\n",
    "    def is_empty(self): # Verificamos si esta vacia\n",
    "        if self.__list == []:\n",
    "            return True\n",
    "        else:\n",
    "            return False\n",
    "    def size(self):\n",
    "        return len(self.__list)\n",
    "    def printlist(self):\n",
    "        print(self.__list)\n",
    "        "
   ]
  },
  {
   "cell_type": "code",
   "execution_count": 10,
   "id": "42dbb6d6-1298-4f44-a9f7-fea0237a79db",
   "metadata": {},
   "outputs": [
    {
     "data": {
      "text/plain": [
       "True"
      ]
     },
     "execution_count": 10,
     "metadata": {},
     "output_type": "execute_result"
    }
   ],
   "source": [
    "p = Estructura_pila()\n",
    "p.is_empty()"
   ]
  },
  {
   "cell_type": "code",
   "execution_count": 11,
   "id": "b42b8cd1-aff4-44bd-bc1f-383b91921d9e",
   "metadata": {},
   "outputs": [
    {
     "data": {
      "text/plain": [
       "4"
      ]
     },
     "execution_count": 11,
     "metadata": {},
     "output_type": "execute_result"
    }
   ],
   "source": [
    "p.push(1)\n",
    "p.push(2)\n",
    "p.push(4)\n",
    "p.peak()"
   ]
  },
  {
   "cell_type": "code",
   "execution_count": 12,
   "id": "a8240b56-dae7-44fe-bc1b-9fc7a0a60c2b",
   "metadata": {},
   "outputs": [
    {
     "data": {
      "text/plain": [
       "2"
      ]
     },
     "execution_count": 12,
     "metadata": {},
     "output_type": "execute_result"
    }
   ],
   "source": [
    "p.pop()\n",
    "p.peak()"
   ]
  },
  {
   "cell_type": "code",
   "execution_count": 13,
   "id": "7414eb58-0bff-4c44-96f8-66c5b4d61cc9",
   "metadata": {},
   "outputs": [
    {
     "name": "stdout",
     "output_type": "stream",
     "text": [
      "[1, 2]\n"
     ]
    }
   ],
   "source": [
    "p.printlist()"
   ]
  }
 ],
 "metadata": {
  "kernelspec": {
   "display_name": "Python 3 (ipykernel)",
   "language": "python",
   "name": "python3"
  },
  "language_info": {
   "codemirror_mode": {
    "name": "ipython",
    "version": 3
   },
   "file_extension": ".py",
   "mimetype": "text/x-python",
   "name": "python",
   "nbconvert_exporter": "python",
   "pygments_lexer": "ipython3",
   "version": "3.11.4"
  }
 },
 "nbformat": 4,
 "nbformat_minor": 5
}
