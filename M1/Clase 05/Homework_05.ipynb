{
 "cells": [
  {
   "cell_type": "code",
   "execution_count": 5,
   "metadata": {},
   "outputs": [],
   "source": [
    "import pila\n",
    "import colas\n",
    "import random"
   ]
  },
  {
   "cell_type": "markdown",
   "metadata": {},
   "source": [
    "# Práctica Clase 5"
   ]
  },
  {
   "cell_type": "markdown",
   "metadata": {},
   "source": [
    "1) Implementar un juego, que consista en apilar números enteros del 1 al 20, de forma aleatoria, para lo cual debe usarse una estructura de Pila. \n",
    "Luego, el usuario debe elegir un número de veces en que se va a quitar elementos de la pila, los cuales, sumados entre sí, no deben superar el valor de 50.\n",
    "El usuario pierde si la suma supera ese valor. Si no lo supera, gana, pero su calificación será 10 menos el número elementos que falten quitar para todavía no superar 50.\n",
    "El programa debe informar si perdió, y si ganó, con qué calificación lo hizo.\n",
    "\n",
    "Consideraciones:<br>\n",
    "a. Se puede usar la función input() para obtener una entrada de teclado.<br>\n",
    "b. Se puede usar la el modulo random para obtener valores aleatorios."
   ]
  },
  {
   "cell_type": "code",
   "execution_count": 2,
   "metadata": {},
   "outputs": [
    {
     "ename": "KeyboardInterrupt",
     "evalue": "Interrupted by user",
     "output_type": "error",
     "traceback": [
      "\u001b[1;31m---------------------------------------------------------------------------\u001b[0m",
      "\u001b[1;31mKeyboardInterrupt\u001b[0m                         Traceback (most recent call last)",
      "Cell \u001b[1;32mIn[2], line 9\u001b[0m\n\u001b[0;32m      6\u001b[0m \u001b[39mfor\u001b[39;00m item \u001b[39min\u001b[39;00m lista:\n\u001b[0;32m      7\u001b[0m     p\u001b[39m.\u001b[39mpush(item)\n\u001b[1;32m----> 9\u001b[0m cantidad \u001b[39m=\u001b[39m \u001b[39mint\u001b[39m(\u001b[39minput\u001b[39;49m(\u001b[39m'\u001b[39;49m\u001b[39m¿Ingrese la cantidad de numeros?\u001b[39;49m\u001b[39m'\u001b[39;49m))\n\u001b[0;32m     10\u001b[0m \u001b[39mprint\u001b[39m(\u001b[39mf\u001b[39m\u001b[39m'\u001b[39m\u001b[39mUsted ah sacado \u001b[39m\u001b[39m{\u001b[39;00mcantidad\u001b[39m}\u001b[39;00m\u001b[39m de numeros\u001b[39m\u001b[39m'\u001b[39m)\n\u001b[0;32m     11\u001b[0m suma \u001b[39m=\u001b[39m \u001b[39m0\u001b[39m\n",
      "File \u001b[1;32m~\\AppData\\Local\\Packages\\PythonSoftwareFoundation.Python.3.11_qbz5n2kfra8p0\\LocalCache\\local-packages\\Python311\\site-packages\\ipykernel\\kernelbase.py:1202\u001b[0m, in \u001b[0;36mKernel.raw_input\u001b[1;34m(self, prompt)\u001b[0m\n\u001b[0;32m   1200\u001b[0m     msg \u001b[39m=\u001b[39m \u001b[39m\"\u001b[39m\u001b[39mraw_input was called, but this frontend does not support input requests.\u001b[39m\u001b[39m\"\u001b[39m\n\u001b[0;32m   1201\u001b[0m     \u001b[39mraise\u001b[39;00m StdinNotImplementedError(msg)\n\u001b[1;32m-> 1202\u001b[0m \u001b[39mreturn\u001b[39;00m \u001b[39mself\u001b[39;49m\u001b[39m.\u001b[39;49m_input_request(\n\u001b[0;32m   1203\u001b[0m     \u001b[39mstr\u001b[39;49m(prompt),\n\u001b[0;32m   1204\u001b[0m     \u001b[39mself\u001b[39;49m\u001b[39m.\u001b[39;49m_parent_ident[\u001b[39m\"\u001b[39;49m\u001b[39mshell\u001b[39;49m\u001b[39m\"\u001b[39;49m],\n\u001b[0;32m   1205\u001b[0m     \u001b[39mself\u001b[39;49m\u001b[39m.\u001b[39;49mget_parent(\u001b[39m\"\u001b[39;49m\u001b[39mshell\u001b[39;49m\u001b[39m\"\u001b[39;49m),\n\u001b[0;32m   1206\u001b[0m     password\u001b[39m=\u001b[39;49m\u001b[39mFalse\u001b[39;49;00m,\n\u001b[0;32m   1207\u001b[0m )\n",
      "File \u001b[1;32m~\\AppData\\Local\\Packages\\PythonSoftwareFoundation.Python.3.11_qbz5n2kfra8p0\\LocalCache\\local-packages\\Python311\\site-packages\\ipykernel\\kernelbase.py:1245\u001b[0m, in \u001b[0;36mKernel._input_request\u001b[1;34m(self, prompt, ident, parent, password)\u001b[0m\n\u001b[0;32m   1242\u001b[0m \u001b[39mexcept\u001b[39;00m \u001b[39mKeyboardInterrupt\u001b[39;00m:\n\u001b[0;32m   1243\u001b[0m     \u001b[39m# re-raise KeyboardInterrupt, to truncate traceback\u001b[39;00m\n\u001b[0;32m   1244\u001b[0m     msg \u001b[39m=\u001b[39m \u001b[39m\"\u001b[39m\u001b[39mInterrupted by user\u001b[39m\u001b[39m\"\u001b[39m\n\u001b[1;32m-> 1245\u001b[0m     \u001b[39mraise\u001b[39;00m \u001b[39mKeyboardInterrupt\u001b[39;00m(msg) \u001b[39mfrom\u001b[39;00m \u001b[39mNone\u001b[39;00m\n\u001b[0;32m   1246\u001b[0m \u001b[39mexcept\u001b[39;00m \u001b[39mException\u001b[39;00m:\n\u001b[0;32m   1247\u001b[0m     \u001b[39mself\u001b[39m\u001b[39m.\u001b[39mlog\u001b[39m.\u001b[39mwarning(\u001b[39m\"\u001b[39m\u001b[39mInvalid Message:\u001b[39m\u001b[39m\"\u001b[39m, exc_info\u001b[39m=\u001b[39m\u001b[39mTrue\u001b[39;00m)\n",
      "\u001b[1;31mKeyboardInterrupt\u001b[0m: Interrupted by user"
     ]
    }
   ],
   "source": [
    "eleccion = ''\n",
    "while eleccion != 'n':\n",
    "    lista = random.sample(range(1,21),20)\n",
    "    p = pila.Estructura_pila()\n",
    "    \n",
    "    for item in lista:\n",
    "        p.push(item)\n",
    "        \n",
    "    cantidad = int(input('¿Ingrese la cantidad de numeros?'))\n",
    "    print(f'Usted ah sacado {cantidad} de numeros')\n",
    "    suma = 0\n",
    "    elementos_restantes = 0\n",
    "    \n",
    "    for val in range(cantidad):\n",
    "        suma +=p.pop()\n",
    "    if suma > 50:\n",
    "        print(f'Su suma fue de {suma} usted ah perdido')\n",
    "    else:\n",
    "        while suma <=50:\n",
    "            suma += p.pop()\n",
    "            elementos_restantes += 1 \n",
    "        print(f'Usted ah ganado y su puntuacion fue de {10 - elementos_restantes}')\n",
    "        eleccion = input('Desea seguir el juego? s/n')\n",
    "\n",
    "\n"
   ]
  },
  {
   "cell_type": "code",
   "execution_count": 6,
   "metadata": {},
   "outputs": [],
   "source": [
    "# USANDO CLASE\n",
    "\n",
    "class pila():\n",
    "    def __init__(self):\n",
    "        self.__lista = [x for x in range (1,21)]\n",
    "        self.__puntaje = 20\n",
    "        random.shuffle(self.__lista)\n",
    "        print(f'Lista original {self.__lista}')\n",
    "    def quitar_elementos(self):\n",
    "        return self.__lista.pop()\n",
    "    def mirar_elementos(self):\n",
    "        return print(self.__lista)\n",
    "    def juego(self):\n",
    "        print('======BIENVENIDO======')\n",
    "        print(\"Elija la cantidad de numeros a retirar la suma o debe superar 50\")\n",
    "        elemento = int(input('Ingrese la cantidad de elementos a retirar'))\n",
    "        suma = 0\n",
    "        for _ in range (elemento): # Se pone _ porque no se usa\n",
    "            suma += self.quitar_elementos()\n",
    "        if suma > 50 : \n",
    "            print(f'Perdiste la suma es {suma}')\n",
    "        else:\n",
    "            print(f'La suma {self.__puntaje-len(self.__lista)} elementos de de {suma}')\n",
    "            print(self.__puntaje-elemento)\n",
    "            \n",
    "            "
   ]
  },
  {
   "cell_type": "code",
   "execution_count": 9,
   "metadata": {},
   "outputs": [
    {
     "name": "stdout",
     "output_type": "stream",
     "text": [
      "Lista original [13, 17, 4, 14, 18, 8, 9, 2, 5, 15, 6, 10, 12, 16, 20, 3, 19, 11, 1, 7]\n",
      "======BIENVENIDO======\n",
      "Elija la cantidad de numeros a retirar la suma o debe superar 50\n"
     ]
    },
    {
     "name": "stdout",
     "output_type": "stream",
     "text": [
      "La suma 5 elementos de de 41\n",
      "15\n"
     ]
    }
   ],
   "source": [
    "juego = pila()\n",
    "juego.juego()"
   ]
  },
  {
   "cell_type": "code",
   "execution_count": null,
   "metadata": {},
   "outputs": [
    {
     "name": "stdout",
     "output_type": "stream",
     "text": [
      "[13, 11, 19, 20, 9, 6, 3, 10, 14, 1, 15, 5, 16, 8, 7]\n"
     ]
    }
   ],
   "source": [
    "p.printlist()\n"
   ]
  },
  {
   "cell_type": "markdown",
   "metadata": {},
   "source": [
    "2) Implementar un juego donde constas de 2 jarras, de capacidad 5 y 3 litros respectivamente, y debes colocar 4 litros en la jarra de 5L.\n",
    "Las opciones posibles son:\n",
    "* Llenar la jarra de 3 litros\n",
    "* Llenar la jarra de 5 litros\n",
    "* Vaciar la jarra de 3 litros\n",
    "* Vaciar la jarra de 5 litros\n",
    "* Verter el contenido de la jarra de 3 litros en la de 5 litros\n",
    "* Verter el contenido de la jarra de 5 litros en la de 3 litros"
   ]
  },
  {
   "cell_type": "code",
   "execution_count": 1,
   "metadata": {},
   "outputs": [],
   "source": [
    "import colas\n",
    "import pila"
   ]
  },
  {
   "cell_type": "code",
   "execution_count": 10,
   "metadata": {},
   "outputs": [],
   "source": [
    "class Juego_Jarra(object):\n",
    "    def __init__(self):\n",
    "        self.victoria = False\n",
    "        self.__jarra5 = 0\n",
    "        self.__jarra3 = 0\n",
    "        self.__movimiento = colas.Estructura_cola()\n",
    "    def llenar_jarra3(self):  # sourcery skip: min-max-identity\n",
    "        if self.__jarra3 < 3:\n",
    "            self.__jarra3 = 3\n",
    "            self.__movimiento.equeue(self.__jarra5)\n",
    "        else:\n",
    "            return 'La jarra esta llana ya'\n",
    "    def llenar_jarra5(self):  # sourcery skip: min-max-identity\n",
    "        if self.__jarra5 < 5:\n",
    "            self.__jarra5 = 5\n",
    "            self.__movimiento.equeue(self.__jarra5)\n",
    "        else:\n",
    "            return 'La jarra esta llana ya'\n",
    "    def vaciar_jarra3(self):\n",
    "        if self.__jarra3 > 0:\n",
    "            self.__jarra3 = 0\n",
    "            self.__movimiento.equeue(self.__jarra5)\n",
    "        else:\n",
    "            return 'La jarra ya estaba vacia'\n",
    "    def vaciar_jarra5(self):\n",
    "        if self.__jarra5 > 0:\n",
    "            self.__jarra5 = 0\n",
    "            self.__movimiento.equeue(self.__jarra5)\n",
    "        else:\n",
    "            return 'La jarra ya estaba vacia'\n",
    "    def verter5_to3(self):\n",
    "        cantidad = self.__jarra5 + self.__jarra3\n",
    "        if self.__jarra3 >= 3: \n",
    "            return 'La jarra ya esta llena'\n",
    "        if cantidad > 3:\n",
    "            self.__jarra5 -= 3 - self.__jarra3\n",
    "            self.llenar_jarra3()\n",
    "            \n",
    "            self.__movimiento.equeue(self.__jarra5)\n",
    "        else:\n",
    "            self.__jarra3 += cantidad\n",
    "            self.__jarra5 -= cantidad\n",
    "            self.__movimiento.equeue(self.__jarra5)\n",
    "    def verter3_to5(self):\n",
    "        cantidad = self.__jarra5 + self.__jarra3\n",
    "        if self.__jarra5 >= 5: \n",
    "            \n",
    "            return 'La jarra ya esta llena'\n",
    "        if cantidad > 5:\n",
    "            self.__jarra3 -= 5 - self.__jarra5\n",
    "            self.llenar_jarra5()\n",
    "            \n",
    "            self.__movimiento.equeue(self.__jarra5)\n",
    "        else:\n",
    "            self.__jarra5 += cantidad\n",
    "            self.__jarra3 -= cantida\n",
    "            self.__movimiento.equeue(self.__jarra5)\n",
    "    def verificar(self):\n",
    "        while self.__movimiento.size() > 0:\n",
    "            contenido = self.__movimiento.dequeue()\n",
    "            if contenido == 4:\n",
    "                self.victoria = True\n",
    "                return 'Usted ah ganado el juego' \n",
    "                break\n",
    "            "
   ]
  },
  {
   "cell_type": "code",
   "execution_count": 13,
   "metadata": {},
   "outputs": [
    {
     "name": "stdout",
     "output_type": "stream",
     "text": [
      "True\n"
     ]
    }
   ],
   "source": [
    "nuevo_juevo = Juego_Jarra()\n",
    "nuevo_juevo.llenar_jarra5()\n",
    "nuevo_juevo.verter5_to3()\n",
    "nuevo_juevo.vaciar_jarra3()\n",
    "nuevo_juevo.verter5_to3()\n",
    "nuevo_juevo.llenar_jarra5()\n",
    "nuevo_juevo.verter5_to3()\n",
    "nuevo_juevo.verificar()\n",
    "print(nuevo_juevo.victoria)\n",
    "\n"
   ]
  }
 ],
 "metadata": {
  "kernelspec": {
   "display_name": "Python 3 (ipykernel)",
   "language": "python",
   "name": "python3"
  },
  "language_info": {
   "codemirror_mode": {
    "name": "ipython",
    "version": 3
   },
   "file_extension": ".py",
   "mimetype": "text/x-python",
   "name": "python",
   "nbconvert_exporter": "python",
   "pygments_lexer": "ipython3",
   "version": "3.11.4"
  }
 },
 "nbformat": 4,
 "nbformat_minor": 4
}
