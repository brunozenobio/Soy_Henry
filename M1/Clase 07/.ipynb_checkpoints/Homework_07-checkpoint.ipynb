{
 "cells": [
  {
   "cell_type": "markdown",
   "metadata": {},
   "source": [
    "# Práctica Clase 7"
   ]
  },
  {
   "cell_type": "markdown",
   "metadata": {},
   "source": [
    "1) Diseñar una clase que permita trabajar con un árbol binario y que contenga los métodos:<br>\n",
    "    * insertaVal: para insertar un dato<br>\n",
    "    * buscaVal: que devuelva True o False si existe o no un dato<br>\n",
    "    * verVal: que imprima por pantalla los valores del árbol<br>\n",
    "\n",
    "Nota: Se puede utilizar la recursividad\n"
   ]
  },
  {
   "cell_type": "code",
   "execution_count": 1,
   "metadata": {},
   "outputs": [],
   "source": [
    "class Nodo():\n",
    "    def __init__(self, dato):\n",
    "        self.dato = dato\n",
    "        self.izq = None\n",
    "        self.der = None\n",
    "        "
   ]
  },
  {
   "cell_type": "code",
   "execution_count": 6,
   "metadata": {},
   "outputs": [],
   "source": [
    "class Arbol():\n",
    "    def __init__(self):\n",
    "        self.raiz = None\n",
    "\n",
    "    def insertaVal(self, dato):\n",
    "        n = Nodo(dato)\n",
    "        if (self.raiz == None):\n",
    "            self.raiz = n\n",
    "        else:\n",
    "            puntero = self.raiz\n",
    "            if (puntero.izq == None):\n",
    "                puntero.izq = n\n",
    "            if (puntero.der == None):\n",
    "                puntero.der = n\n",
    "            else:\n",
    "                puntero.izq.insertaVal(dato)\n",
    "    def get_data(self):\n",
    "        val = self.raiz\n",
    "        while val != None:\n",
    "            print(val.dato)\n",
    "            val = val.izq"
   ]
  },
  {
   "cell_type": "code",
   "execution_count": null,
   "metadata": {},
   "outputs": [],
   "source": []
  },
  {
   "cell_type": "code",
   "execution_count": 14,
   "metadata": {},
   "outputs": [],
   "source": [
    "class Node():\n",
    "    def __init__(self,dat):\n",
    "        self.valor = dat\n",
    "        self.izq = None\n",
    "        self.derec = None\n",
    "    def insertaVal(self,dat):\n",
    "        if self.valor == None:\n",
    "            self.valor = dat\n",
    "        else:  \n",
    "            if dat < self.valor:\n",
    "                if self.izq == None:\n",
    "                    self.izq = Node(dat)\n",
    "                else:\n",
    "                      self.izq.insertaVal(dat)\n",
    "            else:\n",
    "                if self.derec == None:\n",
    "                    self.derec = Node(dat)\n",
    "                else:       \n",
    "                    self.derec.insertaVal(dat)\n",
    "    def buscarVal(self,dat):\n",
    "        valor = self.valor\n",
    "        if valor < dat:\n",
    "            if self.izq == None:\n",
    "                return False\n",
    "            else:\n",
    "                self.izq.buscarVal(dat)\n",
    "        elif valor > dat:\n",
    "            if self.dere == None:\n",
    "                return False\n",
    "            else:\n",
    "                self.derec.buscarVal(dat)\n",
    "        else:\n",
    "            return True\n",
    "    def verVal(self):\n",
    "        print(self.valor)\n",
    "        if self.izq != None:           \n",
    "            self.izq.verVal()\n",
    "        if self.derec != None:           \n",
    "            self.derec.verVal()\n",
    "        \n",
    "        \n",
    "                \n",
    "        \n",
    "            \n",
    "        \n",
    "        \n",
    "        \n",
    "        \n",
    "        "
   ]
  },
  {
   "cell_type": "code",
   "execution_count": 15,
   "metadata": {},
   "outputs": [],
   "source": [
    "a = Node(100)\n",
    "a.insertaVal(80)\n",
    "a.insertaVal(60)\n",
    "a.insertaVal(40)\n",
    "a.insertaVal(20)\n",
    "a.insertaVal(30)\n",
    "a.insertaVal(15)\n",
    "a.insertaVal(14)\n",
    "a.insertaVal(10)\n",
    "a.insertaVal(5)"
   ]
  },
  {
   "cell_type": "code",
   "execution_count": 16,
   "metadata": {},
   "outputs": [
    {
     "name": "stdout",
     "output_type": "stream",
     "text": [
      "100\n",
      "80\n",
      "60\n",
      "40\n",
      "20\n",
      "15\n",
      "14\n",
      "10\n",
      "5\n"
     ]
    },
    {
     "ename": "AttributeError",
     "evalue": "'NoneType' object has no attribute 'verVal'",
     "output_type": "error",
     "traceback": [
      "\u001b[1;31m---------------------------------------------------------------------------\u001b[0m",
      "\u001b[1;31mAttributeError\u001b[0m                            Traceback (most recent call last)",
      "Cell \u001b[1;32mIn[16], line 1\u001b[0m\n\u001b[1;32m----> 1\u001b[0m \u001b[43ma\u001b[49m\u001b[38;5;241;43m.\u001b[39;49m\u001b[43mverVal\u001b[49m\u001b[43m(\u001b[49m\u001b[43m)\u001b[49m\n",
      "Cell \u001b[1;32mIn[14], line 36\u001b[0m, in \u001b[0;36mNode.verVal\u001b[1;34m(self)\u001b[0m\n\u001b[0;32m     34\u001b[0m \u001b[38;5;28;01mdef\u001b[39;00m \u001b[38;5;21mverVal\u001b[39m(\u001b[38;5;28mself\u001b[39m):\n\u001b[0;32m     35\u001b[0m     \u001b[38;5;28mprint\u001b[39m(\u001b[38;5;28mself\u001b[39m\u001b[38;5;241m.\u001b[39mvalor)\n\u001b[1;32m---> 36\u001b[0m     \u001b[38;5;28;43mself\u001b[39;49m\u001b[38;5;241;43m.\u001b[39;49m\u001b[43mizq\u001b[49m\u001b[38;5;241;43m.\u001b[39;49m\u001b[43mverVal\u001b[49m\u001b[43m(\u001b[49m\u001b[43m)\u001b[49m\n\u001b[0;32m     37\u001b[0m     \u001b[38;5;28mself\u001b[39m\u001b[38;5;241m.\u001b[39mderec\u001b[38;5;241m.\u001b[39mverVal()\n",
      "Cell \u001b[1;32mIn[14], line 36\u001b[0m, in \u001b[0;36mNode.verVal\u001b[1;34m(self)\u001b[0m\n\u001b[0;32m     34\u001b[0m \u001b[38;5;28;01mdef\u001b[39;00m \u001b[38;5;21mverVal\u001b[39m(\u001b[38;5;28mself\u001b[39m):\n\u001b[0;32m     35\u001b[0m     \u001b[38;5;28mprint\u001b[39m(\u001b[38;5;28mself\u001b[39m\u001b[38;5;241m.\u001b[39mvalor)\n\u001b[1;32m---> 36\u001b[0m     \u001b[38;5;28;43mself\u001b[39;49m\u001b[38;5;241;43m.\u001b[39;49m\u001b[43mizq\u001b[49m\u001b[38;5;241;43m.\u001b[39;49m\u001b[43mverVal\u001b[49m\u001b[43m(\u001b[49m\u001b[43m)\u001b[49m\n\u001b[0;32m     37\u001b[0m     \u001b[38;5;28mself\u001b[39m\u001b[38;5;241m.\u001b[39mderec\u001b[38;5;241m.\u001b[39mverVal()\n",
      "    \u001b[1;31m[... skipping similar frames: Node.verVal at line 36 (6 times)]\u001b[0m\n",
      "Cell \u001b[1;32mIn[14], line 36\u001b[0m, in \u001b[0;36mNode.verVal\u001b[1;34m(self)\u001b[0m\n\u001b[0;32m     34\u001b[0m \u001b[38;5;28;01mdef\u001b[39;00m \u001b[38;5;21mverVal\u001b[39m(\u001b[38;5;28mself\u001b[39m):\n\u001b[0;32m     35\u001b[0m     \u001b[38;5;28mprint\u001b[39m(\u001b[38;5;28mself\u001b[39m\u001b[38;5;241m.\u001b[39mvalor)\n\u001b[1;32m---> 36\u001b[0m     \u001b[38;5;28;43mself\u001b[39;49m\u001b[38;5;241;43m.\u001b[39;49m\u001b[43mizq\u001b[49m\u001b[38;5;241;43m.\u001b[39;49m\u001b[43mverVal\u001b[49m()\n\u001b[0;32m     37\u001b[0m     \u001b[38;5;28mself\u001b[39m\u001b[38;5;241m.\u001b[39mderec\u001b[38;5;241m.\u001b[39mverVal()\n",
      "\u001b[1;31mAttributeError\u001b[0m: 'NoneType' object has no attribute 'verVal'"
     ]
    }
   ],
   "source": [
    "a.verVal()"
   ]
  }
 ],
 "metadata": {
  "kernelspec": {
   "display_name": "Python 3 (ipykernel)",
   "language": "python",
   "name": "python3"
  },
  "language_info": {
   "codemirror_mode": {
    "name": "ipython",
    "version": 3
   },
   "file_extension": ".py",
   "mimetype": "text/x-python",
   "name": "python",
   "nbconvert_exporter": "python",
   "pygments_lexer": "ipython3",
   "version": "3.11.4"
  }
 },
 "nbformat": 4,
 "nbformat_minor": 4
}
