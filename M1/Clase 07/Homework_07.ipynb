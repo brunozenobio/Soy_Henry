{
 "cells": [
  {
   "cell_type": "markdown",
   "metadata": {},
   "source": [
    "# Práctica Clase 7"
   ]
  },
  {
   "cell_type": "markdown",
   "metadata": {},
   "source": [
    "1) Diseñar una clase que permita trabajar con un árbol binario y que contenga los métodos:<br>\n",
    "    * insertaVal: para insertar un dato<br>\n",
    "    * buscaVal: que devuelva True o False si existe o no un dato<br>\n",
    "    * verVal: que imprima por pantalla los valores del árbol<br>\n",
    "\n",
    "Nota: Se puede utilizar la recursividad\n"
   ]
  },
  {
   "cell_type": "code",
   "execution_count": 59,
   "metadata": {},
   "outputs": [],
   "source": [
    "class Nodo():\n",
    "    def __init__(self, dato):\n",
    "        self.dato = dato\n",
    "        self.izq = None\n",
    "        self.der = None\n",
    "        "
   ]
  },
  {
   "cell_type": "code",
   "execution_count": 60,
   "metadata": {},
   "outputs": [],
   "source": [
    "class Arbol():\n",
    "    def __init__(self):\n",
    "        self.raiz = None\n",
    "\n",
    "    def insertaVal(self, dato):\n",
    "        n = Nodo(dato)\n",
    "        if (self.raiz == None):\n",
    "            self.raiz = n\n",
    "        else:\n",
    "            puntero = self.raiz\n",
    "            if (puntero.izq == None):\n",
    "                puntero.izq = n\n",
    "            if (puntero.der == None):\n",
    "                puntero.der = n\n",
    "            else:\n",
    "                puntero.izq.insertaVal(dato)\n",
    "    def get_data(self):\n",
    "        val = self.raiz\n",
    "        while val != None:\n",
    "            print(val.dato)\n",
    "            val = val.izq"
   ]
  },
  {
   "cell_type": "code",
   "execution_count": null,
   "metadata": {},
   "outputs": [],
   "source": []
  },
  {
   "cell_type": "code",
   "execution_count": 78,
   "metadata": {},
   "outputs": [],
   "source": [
    "class Node():\n",
    "    def __init__(self,dat):\n",
    "        self.valor = dat\n",
    "        self.izq = None\n",
    "        self.derec = None\n",
    "    def insertaVal(self,dat):\n",
    "        if self.valor == None:\n",
    "            self.valor = dat\n",
    "        else:  \n",
    "            if dat < self.valor:\n",
    "                if self.izq == None:\n",
    "                    self.izq = Node(dat)\n",
    "                else:\n",
    "                    self.izq.insertaVal(dat)\n",
    "            else:\n",
    "                if self.derec == None:\n",
    "                    self.derec = Node(dat)\n",
    "                else:       \n",
    "                    self.derec.insertaVal(dat)\n",
    "    def buscarVal(self, dat):\n",
    "        if dat < self.valor:\n",
    "            if self.izq == None:\n",
    "                return False\n",
    "            return self.izq.buscarVal(dat)\n",
    "        elif dat > self.valor:\n",
    "            if self.derec == None:\n",
    "                return False\n",
    "            return self.derec.buscarVal(dat)\n",
    "        else:\n",
    "            return True\n",
    "    def verVal(self):\n",
    "        \n",
    "        if self.izq != None:           \n",
    "            self.izq.verVal()\n",
    "        print(self.valor)\n",
    "        if self.derec != None:           \n",
    "            self.derec.verVal()\n",
    "    \n",
    "\n",
    "        \n",
    "                \n",
    "        \n",
    "            \n",
    "        \n",
    "        \n",
    "        \n",
    "        \n",
    "        "
   ]
  },
  {
   "cell_type": "code",
   "execution_count": 79,
   "metadata": {},
   "outputs": [],
   "source": [
    "a = Node(100)\n",
    "a.insertaVal(80)\n",
    "a.insertaVal(60)\n",
    "a.insertaVal(40)\n",
    "a.insertaVal(20)\n",
    "a.insertaVal(30)\n",
    "a.insertaVal(15)\n",
    "a.insertaVal(14)\n",
    "a.insertaVal(10)\n",
    "a.insertaVal(5)"
   ]
  },
  {
   "cell_type": "code",
   "execution_count": 80,
   "metadata": {},
   "outputs": [
    {
     "data": {
      "text/plain": [
       "True"
      ]
     },
     "execution_count": 80,
     "metadata": {},
     "output_type": "execute_result"
    }
   ],
   "source": [
    "a.buscarVal(80)"
   ]
  },
  {
   "cell_type": "code",
   "execution_count": 81,
   "metadata": {},
   "outputs": [
    {
     "name": "stdout",
     "output_type": "stream",
     "text": [
      "5\n",
      "10\n",
      "14\n",
      "15\n",
      "20\n",
      "30\n",
      "40\n",
      "60\n",
      "80\n",
      "100\n"
     ]
    }
   ],
   "source": [
    "a.verVal()"
   ]
  },
  {
   "cell_type": "code",
   "execution_count": 65,
   "metadata": {},
   "outputs": [
    {
     "name": "stdout",
     "output_type": "stream",
     "text": [
      "100\n",
      "└── 80\n",
      "    └── 60\n",
      "        └── 40\n",
      "            └── 20\n",
      "                ├── 15\n",
      "                │   └── 14\n",
      "                │       └── 10\n",
      "                │           └── 5\n",
      "                └── 30\n"
     ]
    }
   ],
   "source": [
    "\n",
    "from anytree import Node as AnyNode, RenderTree\n",
    "def convert_to_anytree(node):\n",
    "    any_node = AnyNode(str(node.valor))\n",
    "    if node.izq:\n",
    "        any_izq = convert_to_anytree(node.izq)\n",
    "        any_izq.parent = any_node\n",
    "    if node.derec:\n",
    "        any_derec = convert_to_anytree(node.derec)\n",
    "        any_derec.parent = any_node\n",
    "    return any_node\n",
    "\n",
    "# Crea el árbol utilizando tu clase Node\n",
    "a = Node(100)\n",
    "a.insertaVal(80)\n",
    "a.insertaVal(60)\n",
    "a.insertaVal(40)\n",
    "a.insertaVal(20)\n",
    "a.insertaVal(30)\n",
    "a.insertaVal(15)\n",
    "a.insertaVal(14)\n",
    "a.insertaVal(10)\n",
    "a.insertaVal(5)\n",
    "\n",
    "# Convierte el árbol a un objeto anytree\n",
    "any_root_node = convert_to_anytree(a)\n",
    "\n",
    "# Visualiza el árbol\n",
    "for pre, _, node in RenderTree(any_root_node):\n",
    "    print(f\"{pre}{node.name}\")"
   ]
  }
 ],
 "metadata": {
  "kernelspec": {
   "display_name": "Python 3 (ipykernel)",
   "language": "python",
   "name": "python3"
  },
  "language_info": {
   "codemirror_mode": {
    "name": "ipython",
    "version": 3
   },
   "file_extension": ".py",
   "mimetype": "text/x-python",
   "name": "python",
   "nbconvert_exporter": "python",
   "pygments_lexer": "ipython3",
   "version": "3.11.4"
  }
 },
 "nbformat": 4,
 "nbformat_minor": 4
}
