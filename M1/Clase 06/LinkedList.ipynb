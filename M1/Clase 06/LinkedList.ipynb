{
 "cells": [
  {
   "cell_type": "code",
   "execution_count": 25,
   "id": "6cbd7074-5287-483b-a987-398eccd61e7c",
   "metadata": {},
   "outputs": [],
   "source": [
    "class Node(): # Guarda el valor y el apuntador de un nodo\n",
    "    def __init__(self,valor):\n",
    "        self.valor = valor\n",
    "        self.next = None\n",
    "class List():\n",
    "    def __init__(self):\n",
    "        self.head = None  # Primer elemento\n",
    "    def agregar_nodo(self,valor):   \n",
    "        nuevo_nodo = Node(valor)\n",
    "        if not self.head: # SI el nodo principal no esta definido lo defino con el nuevo nodo\n",
    "            self.head = nuevo_nodo\n",
    "        else:\n",
    "            actual = self.head # Asigno al actual la cabezera\n",
    "            while actual.next:  # Pregunto si el actual no es None, si lo es es porque estoy al final de la lista\n",
    "                actual = actual.next  # SI no lo es Reasigno al actual el next \n",
    "            actual.next = nuevo_nodo # Reasigno al next el nuevo nodo reasigno el next para seguir iterando hasta ellegar al final\n",
    "    def eliminar_nodo(self,valor):\n",
    "        actual = self.head() # Guardo en actual la cabezera\n",
    "        if actual and actual.valor == valor:\n",
    "            self.head = actual.next # Si cumple la condicion la cabezera es el siguiente a actual\n",
    "            actual = None # Y actual lo pongo en none\n",
    "        prev = None\n",
    "        while actual and actual.valor != valor:\n",
    "            prev = actual\n",
    "            actual = actual.next\n",
    "        if actual is None:\n",
    "            return None\n",
    "        prev.next = actual.next\n",
    "        actual = None\n",
    "    def imprimir_lista(self):\n",
    "        actual = self.head\n",
    "        while actual :\n",
    "            print(actual.valor,end=\" -> \")\n",
    "            actual = actual.next\n",
    "        print(\"None\")\n",
    "    def agregar_posicion(self,valor,pos):\n",
    "        nuevo_nodo = Node(valor)\n",
    "        if pos == 0:\n",
    "            nuevo_nodo.next = self.head\n",
    "            self.head = nuevo_nodo\n",
    "        else:\n",
    "            actual = self.head\n",
    "            contador = 0\n",
    "            while actual and contador < pos:\n",
    "                prev = actual\n",
    "                actual = actual.next\n",
    "                contador += 1\n",
    "            prev.next = nuevo_nodo\n",
    "            nuevo_nodo.next = actual\n",
    "                \n",
    "                \n",
    "        \n",
    "    "
   ]
  },
  {
   "cell_type": "code",
   "execution_count": 26,
   "id": "1eec80ba-226e-45af-b915-2bcad093f8d9",
   "metadata": {},
   "outputs": [
    {
     "name": "stdout",
     "output_type": "stream",
     "text": [
      "3 -> 6 -> 2 -> 6 -> 10 -> None\n",
      "3 -> 6 -> 2 -> 33 -> 6 -> 10 -> None\n"
     ]
    }
   ],
   "source": [
    "lista1 = List()\n",
    "lista1.agregar_nodo(3)\n",
    "lista1.agregar_nodo(6)\n",
    "lista1.agregar_nodo(2)\n",
    "lista1.agregar_nodo(6)\n",
    "lista1.agregar_nodo(10)\n",
    "lista1.imprimir_lista()\n",
    "lista1.agregar_posicion(33,3)\n",
    "lista1.imprimir_lista()"
   ]
  },
  {
   "cell_type": "code",
   "execution_count": 1,
   "id": "3872b076",
   "metadata": {},
   "outputs": [],
   "source": [
    "class Nodo():\n",
    "    def __init__(self,dato):\n",
    "        self.value = dato\n",
    "        self.next = None\n",
    "        self.prev = None"
   ]
  },
  {
   "cell_type": "code",
   "execution_count": 2,
   "id": "8f2d2480",
   "metadata": {},
   "outputs": [],
   "source": [
    "class LinkedListDouble():\n",
    "    def __init__(self):\n",
    "        self.head = None\n",
    "    def appendValue(self,dato):\n",
    "        nuevo_nodo = Nodo(dato)\n",
    "        if self.head==None:\n",
    "            self.head = nuevo_nodo\n",
    "        else:\n",
    "            nodo_actual = self.head\n",
    "            anterior = nodo_actual.prev\n",
    "            while nodo_actual.next:\n",
    "                anterior = nodo_actual\n",
    "                nodo_actual=nodo_actual.next\n",
    "            nodo_actual.prev =anterior\n",
    "            nodo_actual.next = nuevo_nodo\n",
    "            "
   ]
  },
  {
   "cell_type": "code",
   "execution_count": null,
   "id": "275259d2",
   "metadata": {},
   "outputs": [],
   "source": [
    "list = LinkedListDouble()\n",
    "list.appendValue(5)\n",
    "list.appendValue(4)\n",
    "list.appendValue(1)\n",
    "list.appendValue(23)\n",
    "list.appendValue(55)\n",
    "list.appendValue(11112)\n",
    "list.appendValue(55)"
   ]
  }
 ],
 "metadata": {
  "kernelspec": {
   "display_name": "Python 3 (ipykernel)",
   "language": "python",
   "name": "python3"
  },
  "language_info": {
   "codemirror_mode": {
    "name": "ipython",
    "version": 3
   },
   "file_extension": ".py",
   "mimetype": "text/x-python",
   "name": "python",
   "nbconvert_exporter": "python",
   "pygments_lexer": "ipython3",
   "version": "3.11.4"
  }
 },
 "nbformat": 4,
 "nbformat_minor": 5
}
