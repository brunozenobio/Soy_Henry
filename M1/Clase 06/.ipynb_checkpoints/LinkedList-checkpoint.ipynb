{
 "cells": [
  {
   "cell_type": "code",
   "execution_count": 2,
   "id": "6cbd7074-5287-483b-a987-398eccd61e7c",
   "metadata": {},
   "outputs": [
    {
     "ename": "IndentationError",
     "evalue": "unindent does not match any outer indentation level (<tokenize>, line 8)",
     "output_type": "error",
     "traceback": [
      "\u001b[1;36m  File \u001b[1;32m<tokenize>:8\u001b[1;36m\u001b[0m\n\u001b[1;33m    def agregar_nodo(self,valor):\u001b[0m\n\u001b[1;37m    ^\u001b[0m\n\u001b[1;31mIndentationError\u001b[0m\u001b[1;31m:\u001b[0m unindent does not match any outer indentation level\n"
     ]
    }
   ],
   "source": [
    "class Node(): # Guarda el valor y el apuntador de un nodo\n",
    "    def __init__(self,valor):\n",
    "        self.valor = valor\n",
    "        self.next = None\n",
    "class List():\n",
    "    def __init__(self):\n",
    "        self.head = None  # Primer elemento\n",
    "    def agregar_nodo(self,valor):   \n",
    "        nuevo_nodo = Nodo(valor)\n",
    "        if not self.head: # SI el nodo principal no esta definido lo defino con el nuevo nodo\n",
    "            self.head = nuevo_nodo\n",
    "        else:\n",
    "            actual = self.head # Asigno al actual la cabezera\n",
    "            while actual.next:  # Pregunto si el actual no es None, si lo es es porque estoy al final de la lista\n",
    "                actual = actual.next  # SI no lo es Reasigno al actual el next \n",
    "            actual.next = nuevo_nodo # Reasigno al next el nuevo nodo reasigno el next para seguir iterando hasta ellegar al final\n",
    "    def eliminar_nodo(self,valor):\n",
    "        actual = self.head() # Guardo en actual la cabezera\n",
    "        if actual and actual.valor == valor:\n",
    "            self.head = actual.next # Si cumple la condicion la cabezera es el siguiente a actual\n",
    "            actual = None # Y actual lo pongo en none\n",
    "        prev = None\n",
    "        while actual and actual.valor != valor:\n",
    "            prev = actual\n",
    "            actual = actual.next\n",
    "        if actual is None:\n",
    "            return None\n",
    "        prev.next = actual.next\n",
    "        actual = None\n",
    "        \n",
    "        \n",
    "    "
   ]
  },
  {
   "cell_type": "code",
   "execution_count": null,
   "id": "1eec80ba-226e-45af-b915-2bcad093f8d9",
   "metadata": {},
   "outputs": [],
   "source": []
  }
 ],
 "metadata": {
  "kernelspec": {
   "display_name": "Python 3 (ipykernel)",
   "language": "python",
   "name": "python3"
  },
  "language_info": {
   "codemirror_mode": {
    "name": "ipython",
    "version": 3
   },
   "file_extension": ".py",
   "mimetype": "text/x-python",
   "name": "python",
   "nbconvert_exporter": "python",
   "pygments_lexer": "ipython3",
   "version": "3.11.4"
  }
 },
 "nbformat": 4,
 "nbformat_minor": 5
}
