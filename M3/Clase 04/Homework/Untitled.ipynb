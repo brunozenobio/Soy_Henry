{
 "cells": [
  {
   "cell_type": "code",
   "execution_count": 2,
   "id": "5edc173c-b349-4cb0-8cbd-dc2c05250703",
   "metadata": {},
   "outputs": [],
   "source": [
    "import pandas as pd"
   ]
  },
  {
   "cell_type": "code",
   "execution_count": 6,
   "id": "68360137-fcb9-45e9-9087-f47d03180375",
   "metadata": {},
   "outputs": [],
   "source": [
    "df = pd.read_csv('./Sucursales.csv',sep=\";\")"
   ]
  },
  {
   "cell_type": "code",
   "execution_count": 22,
   "id": "bed41b36-8683-468c-9110-2a0dab16b53d",
   "metadata": {},
   "outputs": [],
   "source": [
    "lista = df.values.tolist()\n",
    "\n"
   ]
  },
  {
   "cell_type": "code",
   "execution_count": 31,
   "id": "e51a2c23-add7-4bdd-b50c-31e2c2d5d448",
   "metadata": {},
   "outputs": [],
   "source": [
    "import pymysql\n",
    "conexion = pymysql.connect(\n",
    "    host='localhost',\n",
    "    user='root',\n",
    "    passwd='root',\n",
    "    database='test') \n",
    "cursor = conexion.cursor()"
   ]
  },
  {
   "cell_type": "code",
   "execution_count": 33,
   "id": "31050a73-a2ed-4556-8861-efbc8567e26f",
   "metadata": {},
   "outputs": [
    {
     "data": {
      "text/plain": [
       "31"
      ]
     },
     "execution_count": 33,
     "metadata": {},
     "output_type": "execute_result"
    }
   ],
   "source": [
    "cursor.executemany('INSERT INTO sucursal VALUES(%s,%s,%s,%s,%s,%s,%s)',lista)"
   ]
  },
  {
   "cell_type": "code",
   "execution_count": 34,
   "id": "6006069b-21fd-4657-92ef-b9c5cc1af609",
   "metadata": {},
   "outputs": [],
   "source": [
    "conexion.commit()"
   ]
  }
 ],
 "metadata": {
  "kernelspec": {
   "display_name": "Python 3 (ipykernel)",
   "language": "python",
   "name": "python3"
  },
  "language_info": {
   "codemirror_mode": {
    "name": "ipython",
    "version": 3
   },
   "file_extension": ".py",
   "mimetype": "text/x-python",
   "name": "python",
   "nbconvert_exporter": "python",
   "pygments_lexer": "ipython3",
   "version": "3.11.5"
  }
 },
 "nbformat": 4,
 "nbformat_minor": 5
}
