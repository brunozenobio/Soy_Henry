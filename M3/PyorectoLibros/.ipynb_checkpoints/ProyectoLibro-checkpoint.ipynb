{
 "cells": [
  {
   "cell_type": "code",
   "execution_count": 16,
   "id": "672c5a17-69df-443f-8bd9-36a1dbad62e0",
   "metadata": {},
   "outputs": [],
   "source": [
    "import requests\n",
    "from bs4 import BeautifulSoup\n",
    "\n",
    "#GENERO LA CONEXION AL URL\n",
    "url = 'https://www.cuspide.com/cienmasvendidos'\n",
    "response = requests.get(url)\n",
    "\n",
    "#SI LA CONEXION ES EXISTOSA GENERO LA VARIABLE HTML CON EL STRING DEL DOCUMENTO HTML\n",
    "if response.status_code == 200:\n",
    "    html = response.text\n",
    "else:\n",
    "    print('La solicitud no fue exitosa. Código de estado:', response.status_code)\n",
    "\n"
   ]
  },
  {
   "cell_type": "code",
   "execution_count": 46,
   "id": "d129b003-dd4b-4ca4-9616-c8104eafd960",
   "metadata": {},
   "outputs": [],
   "source": [
    "# BUSCO TODOS LAS ETIQUETAS HTML\n",
    "#ARTICLE Y LA GUARDO EN UNA LISTA(SON LAS QUE ITNENE INFOR DEL LIBRO)\n",
    "lista_article = soup.find_all('article') \n",
    "\n",
    "##DEFINO UNA LISTA DE LISTAS VACIA DONDE VOY A AGREGAR LOS ELEMENTOS \n",
    "lista_elementos =[[]]\n",
    "\n",
    "## PARA TODAS LAS ETIQUETAS BUSCO EL a Y SACO LA URL Y EL TITULO\n",
    "lista_elementos.pop(0)\n",
    "for indice,valores in enumerate(lista_article):\n",
    "    \n",
    "    a_element = valores.find('a')\n",
    "\n",
    "    lista_elementos.append([\n",
    "    a_element['title'],\n",
    "    'https://www.cuspide.com' + a_element['href']])\n",
    "     "
   ]
  },
  {
   "cell_type": "code",
   "execution_count": 49,
   "id": "4f7d3407-c386-486a-a1ff-20a59a54d340",
   "metadata": {},
   "outputs": [],
   "source": [
    "#UNA VEZ CREADA UNA LISTA  DE LISTA DE URL Y TITULO RECORRORO ESTA LISTA Y HAGO SCRAPPING PARA\n",
    "# EL ELEMENTO 0 DE CADA SUBLISTA YA QUE ES EL URL DEL LIBRO\n",
    "\n",
    "for i,valores in enumerate(lista_elementos):\n",
    "    url = valores[1]\n",
    "    response = requests.get(url)\n",
    "    if response.status_code == 200:\n",
    "        html = response.text\n",
    "        soup = BeautifulSoup(html, 'html.parser')\n",
    "        elemento = soup.find('div', id='ctl00_ContentPlaceHolder1_rptFicha_ctl00_precioContainer')\n",
    "        if elemento != None:\n",
    "          precioArg=float(str(elemento.find_all('div')[0]).strip('<div><span>AR$</span> ').replace('.','').replace(',','.')) # Esta mal el replace aun asi el /100 lo arregla\n",
    "          precioUS=float(str(elemento.find_all('div')[1]).strip('<div><span>U$s</span> ').replace(',','.').replace(',',''))\n",
    "          lista_elementos[i].append( precioArg )\n",
    "          lista_elementos[i].append( precioUS )\n",
    "        \n",
    "    else:\n",
    "        print('La solicitud no fue exitosa. Código de estado:', response.status_code)"
   ]
  },
  {
   "cell_type": "code",
   "execution_count": 50,
   "id": "ae38628e-7f23-4421-bb2c-20f408411d67",
   "metadata": {},
   "outputs": [],
   "source": [
    "## GUARDO EL DOLAR BLUER DE LA PAGINA CRONISTA\n",
    "url = 'https://www.cronista.com/MercadosOnline/moneda.html?id=ARSB'\n",
    "response = requests.get(url)\n",
    "if response.status_code == 200:\n",
    "  html = response.text\n",
    "  soup = BeautifulSoup(html, 'html.parser')\n",
    "  elemento = soup.find('div',class_='buy-value')\n",
    "  dolar_blue = float(str(elemento).strip('<div class=\"buy-value\"><span class=\"currency\">$</span>').replace('.','').replace(',','.'))"
   ]
  },
  {
   "cell_type": "code",
   "execution_count": 51,
   "id": "2126a907-50cd-4783-9040-a4efa67e30cd",
   "metadata": {},
   "outputs": [],
   "source": [
    "# Y PARA CADA ELEMENTO DE LA LISTA AGREGO UN ELEMENTO A LA SUBLISTA QUE ES EL PRECIO DEL PRODUCTO A DOLAR BLUE\n",
    "\n",
    "for i,val in enumerate(lista_elementos):\n",
    "  lista_elementos[i].append(val[2] / dolar_blue)"
   ]
  },
  {
   "cell_type": "code",
   "execution_count": 2,
   "id": "ed17af52-dc70-4243-a985-fda0fc1d7a8b",
   "metadata": {},
   "outputs": [],
   "source": [
    "#GENERO LA CONEXION A MYSQL\n",
    "import pymysql\n",
    "conexion = pymysql.connect(\n",
    "    host='localhost',\n",
    "    user='root',\n",
    "    passwd='root',) \n",
    "cursor = conexion.cursor()\n"
   ]
  },
  {
   "cell_type": "code",
   "execution_count": 7,
   "id": "2e8af04f-515c-4c94-b655-0e269294777c",
   "metadata": {},
   "outputs": [],
   "source": [
    "# CREO SI NO EXISTE LA BASE DE DATOS libroproyecto\n",
    "cursor.execute('CREATE DATABASE IF NOT EXISTS libroproyecto')\n",
    "conexion.commit()"
   ]
  },
  {
   "cell_type": "code",
   "execution_count": 14,
   "id": "bdbc3186-59bf-4f3c-b810-4f4cdba47150",
   "metadata": {},
   "outputs": [],
   "source": [
    "#GNERO UNA NUEVA CONEXION A ESA BASE DE DATOS\n",
    "import pymysql\n",
    "conexion = pymysql.connect(\n",
    "    host='localhost',\n",
    "    user='root',\n",
    "    passwd='root',\n",
    "    database = 'libroproyecto'\n",
    "\n",
    ") \n",
    "cursor = conexion.cursor()"
   ]
  },
  {
   "cell_type": "code",
   "execution_count": 68,
   "id": "a2a9c54c-a555-40bb-afcb-2bac1b97be24",
   "metadata": {},
   "outputs": [],
   "source": [
    "#CREO LA TABLA Libro\n",
    "cursor.execute('DROP TABLE IF EXISTS Libro')\n",
    "conexion.commit()\n",
    "cursor.execute(\"\"\"\n",
    "                CREATE TABLE Libro(\n",
    "                id_Libro INT NOT NULL AUTO_INCREMENT,\n",
    "                titulo VARCHAR(80),\n",
    "                url VARCHAR(150),\n",
    "                precio DOUBLE,\n",
    "                precio_usd DOUBLE,\n",
    "                precio_usd_blue DOUBLE,\n",
    "                fecha DATE,\n",
    "                PRIMARY KEY(id_Libro)\n",
    "                );\n",
    "\n",
    "                \"\"\")\n",
    "conexion.commit()"
   ]
  },
  {
   "cell_type": "code",
   "execution_count": 70,
   "id": "d0795eea-2aba-457f-9158-cd3be59d5f67",
   "metadata": {},
   "outputs": [],
   "source": [
    "cursor.executemany('INSERT INTO Libro VALUES(NULL,%s,%s,%s,%s,%s,NOW())',lista_elementos)\n",
    "conexion.commit()"
   ]
  }
 ],
 "metadata": {
  "kernelspec": {
   "display_name": "Python 3 (ipykernel)",
   "language": "python",
   "name": "python3"
  },
  "language_info": {
   "codemirror_mode": {
    "name": "ipython",
    "version": 3
   },
   "file_extension": ".py",
   "mimetype": "text/x-python",
   "name": "python",
   "nbconvert_exporter": "python",
   "pygments_lexer": "ipython3",
   "version": "3.11.5"
  }
 },
 "nbformat": 4,
 "nbformat_minor": 5
}
